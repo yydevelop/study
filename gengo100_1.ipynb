{
  "nbformat": 4,
  "nbformat_minor": 0,
  "metadata": {
    "colab": {
      "name": "gengo100_1.ipynb",
      "provenance": [],
      "authorship_tag": "ABX9TyMXsV94DCnUtaLfW70O5WIG",
      "include_colab_link": true
    },
    "kernelspec": {
      "name": "python3",
      "display_name": "Python 3"
    },
    "language_info": {
      "name": "python"
    }
  },
  "cells": [
    {
      "cell_type": "markdown",
      "metadata": {
        "id": "view-in-github",
        "colab_type": "text"
      },
      "source": [
        "<a href=\"https://colab.research.google.com/github/yydevelop/study/blob/main/gengo100_1.ipynb\" target=\"_parent\"><img src=\"https://colab.research.google.com/assets/colab-badge.svg\" alt=\"Open In Colab\"/></a>"
      ]
    },
    {
      "cell_type": "markdown",
      "metadata": {
        "id": "KOMMf0-oXhzA"
      },
      "source": [
        "00. 文字列の逆順Permalink\n",
        "文字列”stressed”の文字を逆に（末尾から先頭に向かって）並べた文字列を得よ．"
      ]
    },
    {
      "cell_type": "code",
      "metadata": {
        "colab": {
          "base_uri": "https://localhost:8080/"
        },
        "id": "zSNztCfqXeU8",
        "outputId": "d4b84fc4-5202-45fc-a38c-a7cc8490af12"
      },
      "source": [
        "str1 = \"stressed\"\n",
        "print(str1[::-1])"
      ],
      "execution_count": 4,
      "outputs": [
        {
          "output_type": "stream",
          "name": "stdout",
          "text": [
            "desserts\n"
          ]
        }
      ]
    },
    {
      "cell_type": "markdown",
      "metadata": {
        "id": "BAmqwK3rX7wE"
      },
      "source": [
        "01. 「パタトクカシーー」Permalink\n",
        "「パタトクカシーー」という文字列の1,3,5,7文字目を取り出して連結した文字列を得よ．"
      ]
    },
    {
      "cell_type": "code",
      "metadata": {
        "colab": {
          "base_uri": "https://localhost:8080/"
        },
        "id": "96WOUmzCX8WM",
        "outputId": "47cea8bc-0421-4cd6-9dfd-6963fb4b9dbb"
      },
      "source": [
        "str1_1=\"パトカー\"\n",
        "str1_2=\"タクシー\"\n",
        "str1_3=\"\"\n",
        "for s1,s2 in zip(str1_1,str1_2):\n",
        "  str1_3+=s1+s2\n",
        "print(str1_3)"
      ],
      "execution_count": 7,
      "outputs": [
        {
          "output_type": "stream",
          "name": "stdout",
          "text": [
            "パタトクカシーー\n"
          ]
        }
      ]
    },
    {
      "cell_type": "markdown",
      "metadata": {
        "id": "IlQC-EEJYwrR"
      },
      "source": [
        "03. 円周率Permalink\n",
        "“Now I need a drink, alcoholic of course, after the heavy lectures involving quantum mechanics.”という文を単語に分解し，各単語の（アルファベットの）文字数を先頭から出現順に並べたリストを作成せよ．"
      ]
    },
    {
      "cell_type": "code",
      "metadata": {
        "colab": {
          "base_uri": "https://localhost:8080/"
        },
        "id": "e6TQhXPbYyaN",
        "outputId": "55abb484-c3f6-4c41-fcd5-b7fc588a98f9"
      },
      "source": [
        "str3=\"Now I need a drink, alcoholic of course, after the heavy lectures involving quantum mechanics.\"\n",
        "ans3=[]\n",
        "for s3 in str3.split(\" \"):\n",
        "  ans3.append(len(s3))\n",
        "print(ans3)"
      ],
      "execution_count": 10,
      "outputs": [
        {
          "output_type": "stream",
          "name": "stdout",
          "text": [
            "[3, 1, 4, 1, 6, 9, 2, 7, 5, 3, 5, 8, 9, 7, 10]\n"
          ]
        }
      ]
    },
    {
      "cell_type": "markdown",
      "metadata": {
        "id": "pR4sZif-ZTje"
      },
      "source": [
        "04. 元素記号Permalink\n",
        "“Hi He Lied Because Boron Could Not Oxidize Fluorine. New Nations Might Also Sign Peace Security Clause. Arthur King Can.”という文を単語に分解し，1, 5, 6, 7, 8, 9, 15, 16, 19番目の単語は先頭の1文字，それ以外の単語は先頭の2文字を取り出し，取り出した文字列から単語の位置（先頭から何番目の単語か）への連想配列（辞書型もしくはマップ型）を作成せよ．"
      ]
    },
    {
      "cell_type": "code",
      "metadata": {
        "colab": {
          "base_uri": "https://localhost:8080/"
        },
        "id": "R-hLJJBQZWf0",
        "outputId": "578973a4-45a2-454a-aae3-79c31da32949"
      },
      "source": [
        "str4 = \"Hi He Lied Because Boron Could Not Oxidize Fluorine. New Nations Might Also Sign Peace Security Clause. Arthur King Can.\"\n",
        "split4 = str4.split(\" \")\n",
        "set4=(1, 5, 6, 7, 8, 9, 15, 16, 19)\n",
        "ans4={}\n",
        "for i in range(1,len(split4)+1):\n",
        "  if i in set4:\n",
        "    ans4[split4[i-1][:1]]=i\n",
        "  else:\n",
        "    ans4[split4[i-1][:2]]=i\n",
        "print(ans4)"
      ],
      "execution_count": 13,
      "outputs": [
        {
          "output_type": "stream",
          "name": "stdout",
          "text": [
            "{'H': 1, 'He': 2, 'Li': 3, 'Be': 4, 'B': 5, 'C': 6, 'N': 7, 'O': 8, 'F': 9, 'Ne': 10, 'Na': 11, 'Mi': 12, 'Al': 13, 'Si': 14, 'P': 15, 'S': 16, 'Cl': 17, 'Ar': 18, 'K': 19, 'Ca': 20}\n"
          ]
        }
      ]
    },
    {
      "cell_type": "markdown",
      "metadata": {
        "id": "v_axqoWxdO_K"
      },
      "source": [
        "05. n-gramPermalink\n",
        "\n",
        "与えられたシーケンス（文字列やリストなど）からn-gramを作る関数を作成せよ．この関数を用い，”I am an NLPer”という文から単語bi-gram，文字bi-gramを得よ．"
      ]
    },
    {
      "cell_type": "code",
      "metadata": {
        "colab": {
          "base_uri": "https://localhost:8080/"
        },
        "id": "RnvLiyMkdSzc",
        "outputId": "70ddf78c-b741-44d9-da65-fb5643e7dc99"
      },
      "source": [
        "str5 = \"I am an NLPer\"\n",
        "split5 = str5.split(\" \")\n",
        "ans5_1=[]\n",
        "ans5_2=[]\n",
        "for i in range(len(split5)-1):\n",
        "  ans5_1.append([split5[i],split5[i+1]])\n",
        "print(ans5_1)\n",
        "\n",
        "for i in range(len(str5)-1):\n",
        "  ans5_2.append([str5[i],str5[i+1]])\n",
        "print(ans5_2)\n"
      ],
      "execution_count": 15,
      "outputs": [
        {
          "output_type": "stream",
          "name": "stdout",
          "text": [
            "[['I', 'am'], ['am', 'an'], ['an', 'NLPer']]\n",
            "[['I', ' '], [' ', 'a'], ['a', 'm'], ['m', ' '], [' ', 'a'], ['a', 'n'], ['n', ' '], [' ', 'N'], ['N', 'L'], ['L', 'P'], ['P', 'e'], ['e', 'r']]\n"
          ]
        }
      ]
    },
    {
      "cell_type": "markdown",
      "metadata": {
        "id": "wFD1jRKnfZIu"
      },
      "source": [
        "06. 集合Permalink\n",
        "“paraparaparadise”と”paragraph”に含まれる文字bi-gramの集合を，それぞれ, XとYとして求め，XとYの和集合，積集合，差集合を求めよ．さらに，’se’というbi-gramがXおよびYに含まれるかどうかを調べよ．"
      ]
    },
    {
      "cell_type": "code",
      "metadata": {
        "colab": {
          "base_uri": "https://localhost:8080/"
        },
        "id": "vfWE1yZcfaZV",
        "outputId": "1337e41c-7ab5-498c-8141-9d532cf147b2"
      },
      "source": [
        "def n_gram(target,n):\n",
        "  return [target[i:i+n] for i in range(len(target) - n + 1)]\n",
        "\n",
        "str6_1 = \"paraparaparadise\"\n",
        "str6_2 = \"paragraph\"\n",
        "\n",
        "X = n_gram(str6_1,2)\n",
        "Y = n_gram(str6_2,2)\n",
        "\n",
        "print(f'和集合: {set(X) | set(Y)}')\n",
        "print(f'積集合: {set(X) & set(Y)}')\n",
        "print(f'差集合: {set(X) - set(Y)}')\n",
        "print('se' in (set(X) & set(Y)))"
      ],
      "execution_count": 46,
      "outputs": [
        {
          "output_type": "stream",
          "name": "stdout",
          "text": [
            "和集合: {'ap', 'ra', 'se', 'ag', 'ar', 'ph', 'gr', 'pa', 'ad', 'is', 'di'}\n",
            "積集合: {'pa', 'ar', 'ap', 'ra'}\n",
            "差集合: {'is', 'di', 'ad', 'se'}\n",
            "False\n"
          ]
        }
      ]
    },
    {
      "cell_type": "markdown",
      "metadata": {
        "id": "tKgs0LwfjpHq"
      },
      "source": [
        "07. テンプレートによる文生成Permalink\n",
        "引数x, y, zを受け取り「x時のyはz」という文字列を返す関数を実装せよ．さらに，x=12, y=”気温”, z=22.4として，実行結果を確認せよ．"
      ]
    },
    {
      "cell_type": "code",
      "metadata": {
        "colab": {
          "base_uri": "https://localhost:8080/"
        },
        "id": "oGem4ZDojqqc",
        "outputId": "789625c0-2a58-42ca-c4fd-7d0c1c4944cd"
      },
      "source": [
        "def permalink(x,y,z):\n",
        "  return x+\"時の\"+y+\"は\"+z\n",
        "\n",
        "x=\"12\"\n",
        "y=\"気温\"\n",
        "z=\"22.4\"\n",
        "print(permalink(x,y,z))"
      ],
      "execution_count": 47,
      "outputs": [
        {
          "output_type": "stream",
          "name": "stdout",
          "text": [
            "12時の気温は22.4\n"
          ]
        }
      ]
    },
    {
      "cell_type": "markdown",
      "metadata": {
        "id": "nbriFmnNpqwf"
      },
      "source": [
        "08. 暗号文Permalink\n",
        "与えられた文字列の各文字を，以下の仕様で変換する関数cipherを実装せよ．\n",
        "\n",
        "英小文字ならば(219 - 文字コード)の文字に置換\n",
        "その他の文字はそのまま出力\n",
        "この関数を用い，英語のメッセージを暗号化・復号化せよ．"
      ]
    },
    {
      "cell_type": "code",
      "metadata": {
        "colab": {
          "base_uri": "https://localhost:8080/"
        },
        "id": "h8n58nSApsTG",
        "outputId": "dd4404a3-a448-4b4b-d8aa-13d7641cbf58"
      },
      "source": [
        "def cipher(message):\n",
        "  ret = \"\"\n",
        "  for s in message:\n",
        "    if \"a\" <= s and s <= \"z\":\n",
        "      ret+=chr(219 - ord(s))\n",
        "    else:\n",
        "      ret+=s\n",
        "  return ret\n",
        "\n",
        "print(cipher(\"bZa\"))"
      ],
      "execution_count": 53,
      "outputs": [
        {
          "output_type": "stream",
          "name": "stdout",
          "text": [
            "yZz\n"
          ]
        }
      ]
    },
    {
      "cell_type": "markdown",
      "metadata": {
        "id": "JmbeRquarWZF"
      },
      "source": [
        "09. TypoglycemiaPermalink\n",
        "スペースで区切られた単語列に対して，各単語の先頭と末尾の文字は残し，それ以外の文字の順序をランダムに並び替えるプログラムを作成せよ．ただし，長さが４以下の単語は並び替えないこととする．適当な英語の文（例えば”I couldn’t believe that I could actually understand what I was reading : the phenomenal power of the human mind .”）を与え，その実行結果を確認せよ．"
      ]
    },
    {
      "cell_type": "code",
      "metadata": {
        "colab": {
          "base_uri": "https://localhost:8080/"
        },
        "id": "Ynmv-zXUrW7d",
        "outputId": "7cf6bd17-2914-40ee-f44d-2934b2af5b99"
      },
      "source": [
        "import random\n",
        "\n",
        "str9 = \"I couldn’t believe that I could actually understand what I was reading : the phenomenal power of the human mind .\"\n",
        "split9 = str9.split()\n",
        "ans=\"\"\n",
        "for i in range(len(split9)):\n",
        "  s = split9[i]\n",
        "  if len(s) > 4:\n",
        "    ans += s[:1] + \"\".join(random.sample(s[1:-1],len(s)-2)) + s[-1:]\n",
        "  else:\n",
        "    ans += s\n",
        "  ans += \" \"\n",
        "print(ans)\n"
      ],
      "execution_count": 64,
      "outputs": [
        {
          "output_type": "stream",
          "name": "stdout",
          "text": [
            "I c’ndlout bleevie that I could atualcly urndatsned what I was rdaenig : the poeanhnmel poewr of the huamn mind . \n"
          ]
        }
      ]
    }
  ]
}