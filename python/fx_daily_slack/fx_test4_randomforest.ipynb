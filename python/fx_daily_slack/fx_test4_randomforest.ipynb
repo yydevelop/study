{
 "metadata": {
  "language_info": {
   "codemirror_mode": {
    "name": "ipython",
    "version": 3
   },
   "file_extension": ".py",
   "mimetype": "text/x-python",
   "name": "python",
   "nbconvert_exporter": "python",
   "pygments_lexer": "ipython3",
   "version": "3.8.8"
  },
  "orig_nbformat": 2,
  "kernelspec": {
   "name": "python388jvsc74a57bd0716fbbd92a13ad18c91e0530cf34e461b7b6b5d8d0684ef77aa6c15e96b2fbea",
   "display_name": "Python 3.8.8 64-bit"
  }
 },
 "nbformat": 4,
 "nbformat_minor": 2,
 "cells": [
  {
   "cell_type": "code",
   "execution_count": 25,
   "metadata": {},
   "outputs": [],
   "source": [
    "import pandas as pd\n",
    "pd.options.display.precision=2\n",
    "df = pd.read_csv(\"USDJPY.csv\")"
   ]
  },
  {
   "cell_type": "code",
   "execution_count": 26,
   "metadata": {},
   "outputs": [],
   "source": [
    "#df = df.query(\"Date>='1997-01-02'\").reset_index()\n",
    "df = df.query(\"Date>='1997-01-01'\")\n",
    "#df_today = df.query(\"Date=='2021-04-30'\")\n",
    "#df = df.query(\"Date<'2021-04-30'\")"
   ]
  },
  {
   "cell_type": "code",
   "execution_count": 27,
   "metadata": {},
   "outputs": [
    {
     "output_type": "execute_result",
     "data": {
      "text/plain": [
       "      index        Date    Open    High     Low   Close   前日比\n",
       "0      6561  1997-01-02  115.85  116.20  115.28  115.60   NaN\n",
       "1      6562  1997-01-03  115.65  116.70  115.35  116.28  0.59\n",
       "2      6563  1997-01-06  116.75  116.98  115.38  115.75 -0.46\n",
       "3      6564  1997-01-07  115.74  116.02  114.80  115.25 -0.43\n",
       "4      6565  1997-01-08  115.22  116.00  114.90  115.73  0.42\n",
       "...     ...         ...     ...     ...     ...     ...   ...\n",
       "6309  12870  2021-04-27  108.09  108.78  108.09  108.72  0.58\n",
       "6310  12871  2021-04-28  108.71  109.08  108.56  108.60 -0.11\n",
       "6311  12872  2021-04-29  108.60  109.22  108.44  108.94  0.31\n",
       "6312  12873  2021-04-30  108.94  109.34  108.72  109.29  0.32\n",
       "6313  12874  2021-04-30  108.94  109.34  108.72  109.29  0.00\n",
       "\n",
       "[6314 rows x 7 columns]"
      ],
      "text/html": "<div>\n<style scoped>\n    .dataframe tbody tr th:only-of-type {\n        vertical-align: middle;\n    }\n\n    .dataframe tbody tr th {\n        vertical-align: top;\n    }\n\n    .dataframe thead th {\n        text-align: right;\n    }\n</style>\n<table border=\"1\" class=\"dataframe\">\n  <thead>\n    <tr style=\"text-align: right;\">\n      <th></th>\n      <th>index</th>\n      <th>Date</th>\n      <th>Open</th>\n      <th>High</th>\n      <th>Low</th>\n      <th>Close</th>\n      <th>前日比</th>\n    </tr>\n  </thead>\n  <tbody>\n    <tr>\n      <th>0</th>\n      <td>6561</td>\n      <td>1997-01-02</td>\n      <td>115.85</td>\n      <td>116.20</td>\n      <td>115.28</td>\n      <td>115.60</td>\n      <td>NaN</td>\n    </tr>\n    <tr>\n      <th>1</th>\n      <td>6562</td>\n      <td>1997-01-03</td>\n      <td>115.65</td>\n      <td>116.70</td>\n      <td>115.35</td>\n      <td>116.28</td>\n      <td>0.59</td>\n    </tr>\n    <tr>\n      <th>2</th>\n      <td>6563</td>\n      <td>1997-01-06</td>\n      <td>116.75</td>\n      <td>116.98</td>\n      <td>115.38</td>\n      <td>115.75</td>\n      <td>-0.46</td>\n    </tr>\n    <tr>\n      <th>3</th>\n      <td>6564</td>\n      <td>1997-01-07</td>\n      <td>115.74</td>\n      <td>116.02</td>\n      <td>114.80</td>\n      <td>115.25</td>\n      <td>-0.43</td>\n    </tr>\n    <tr>\n      <th>4</th>\n      <td>6565</td>\n      <td>1997-01-08</td>\n      <td>115.22</td>\n      <td>116.00</td>\n      <td>114.90</td>\n      <td>115.73</td>\n      <td>0.42</td>\n    </tr>\n    <tr>\n      <th>...</th>\n      <td>...</td>\n      <td>...</td>\n      <td>...</td>\n      <td>...</td>\n      <td>...</td>\n      <td>...</td>\n      <td>...</td>\n    </tr>\n    <tr>\n      <th>6309</th>\n      <td>12870</td>\n      <td>2021-04-27</td>\n      <td>108.09</td>\n      <td>108.78</td>\n      <td>108.09</td>\n      <td>108.72</td>\n      <td>0.58</td>\n    </tr>\n    <tr>\n      <th>6310</th>\n      <td>12871</td>\n      <td>2021-04-28</td>\n      <td>108.71</td>\n      <td>109.08</td>\n      <td>108.56</td>\n      <td>108.60</td>\n      <td>-0.11</td>\n    </tr>\n    <tr>\n      <th>6311</th>\n      <td>12872</td>\n      <td>2021-04-29</td>\n      <td>108.60</td>\n      <td>109.22</td>\n      <td>108.44</td>\n      <td>108.94</td>\n      <td>0.31</td>\n    </tr>\n    <tr>\n      <th>6312</th>\n      <td>12873</td>\n      <td>2021-04-30</td>\n      <td>108.94</td>\n      <td>109.34</td>\n      <td>108.72</td>\n      <td>109.29</td>\n      <td>0.32</td>\n    </tr>\n    <tr>\n      <th>6313</th>\n      <td>12874</td>\n      <td>2021-04-30</td>\n      <td>108.94</td>\n      <td>109.34</td>\n      <td>108.72</td>\n      <td>109.29</td>\n      <td>0.00</td>\n    </tr>\n  </tbody>\n</table>\n<p>6314 rows × 7 columns</p>\n</div>"
     },
     "metadata": {},
     "execution_count": 27
    }
   ],
   "source": [
    "df[\"前日比\"] = df[\"Close\"].pct_change()*100\n",
    "#df = df.sort_values('Date', ascending=False).reset_index()\n",
    "df = df.reset_index()\n",
    "df"
   ]
  },
  {
   "cell_type": "code",
   "execution_count": 28,
   "metadata": {},
   "outputs": [],
   "source": [
    "import talib as ta\n",
    "import numpy as np\n",
    "\n",
    "close = np.array(df[\"Close\"])\n",
    "\n",
    "#特徴量を入れるための空のdataframeを作成\n",
    "df_feature = pd.DataFrame(index=range(len(df)),columns=[\"SMA5/current\", \"SMA20/current\",\"RSI\",\"MACD\",\"BBANDS+2σ\",\"BBANDS-2σ\"])\n",
    "\n",
    "#以下、talibを用いてテクニカル指標（今回の学習で用いる特徴量）を算出しdf_feature入れる\n",
    "\n",
    "#単純移動平均は、単純移動平均値とその日の終値の比を特徴量として用いる\n",
    "df_feature[\"SMA5/current\"]= ta.SMA(close, timeperiod=5) / close\n",
    "df_feature[\"SMA20/current\"]= ta.SMA(close, timeperiod=20) / close\n",
    "\n",
    "#RSI\n",
    "df_feature[\"RSI\"] = ta.RSI(close, timeperiod=14)\n",
    "\n",
    "#MACD\n",
    "df_feature[\"MACD\"], _ , _= ta.MACD(close, fastperiod=12, slowperiod=26, signalperiod=9)\n",
    "\n",
    "#ボリンジャーバンド \n",
    "upper, middle, lower = ta.BBANDS(close, timeperiod=20, nbdevup=3, nbdevdn=3)\n",
    "df_feature[\"BBANDS+2σ\"] = upper / close\n",
    "df_feature[\"BBANDS-2σ\"] = lower / close"
   ]
  },
  {
   "cell_type": "code",
   "execution_count": 29,
   "metadata": {},
   "outputs": [
    {
     "output_type": "execute_result",
     "data": {
      "text/plain": [
       "      index        Date    Open    High     Low   Close   前日比\n",
       "0      6561  1997-01-02  115.85  116.20  115.28  115.60   NaN\n",
       "1      6562  1997-01-03  115.65  116.70  115.35  116.28  0.59\n",
       "2      6563  1997-01-06  116.75  116.98  115.38  115.75 -0.46\n",
       "3      6564  1997-01-07  115.74  116.02  114.80  115.25 -0.43\n",
       "4      6565  1997-01-08  115.22  116.00  114.90  115.73  0.42\n",
       "...     ...         ...     ...     ...     ...     ...   ...\n",
       "6309  12870  2021-04-27  108.09  108.78  108.09  108.72  0.58\n",
       "6310  12871  2021-04-28  108.71  109.08  108.56  108.60 -0.11\n",
       "6311  12872  2021-04-29  108.60  109.22  108.44  108.94  0.31\n",
       "6312  12873  2021-04-30  108.94  109.34  108.72  109.29  0.32\n",
       "6313  12874  2021-04-30  108.94  109.34  108.72  109.29  0.00\n",
       "\n",
       "[6314 rows x 7 columns]"
      ],
      "text/html": "<div>\n<style scoped>\n    .dataframe tbody tr th:only-of-type {\n        vertical-align: middle;\n    }\n\n    .dataframe tbody tr th {\n        vertical-align: top;\n    }\n\n    .dataframe thead th {\n        text-align: right;\n    }\n</style>\n<table border=\"1\" class=\"dataframe\">\n  <thead>\n    <tr style=\"text-align: right;\">\n      <th></th>\n      <th>index</th>\n      <th>Date</th>\n      <th>Open</th>\n      <th>High</th>\n      <th>Low</th>\n      <th>Close</th>\n      <th>前日比</th>\n    </tr>\n  </thead>\n  <tbody>\n    <tr>\n      <th>0</th>\n      <td>6561</td>\n      <td>1997-01-02</td>\n      <td>115.85</td>\n      <td>116.20</td>\n      <td>115.28</td>\n      <td>115.60</td>\n      <td>NaN</td>\n    </tr>\n    <tr>\n      <th>1</th>\n      <td>6562</td>\n      <td>1997-01-03</td>\n      <td>115.65</td>\n      <td>116.70</td>\n      <td>115.35</td>\n      <td>116.28</td>\n      <td>0.59</td>\n    </tr>\n    <tr>\n      <th>2</th>\n      <td>6563</td>\n      <td>1997-01-06</td>\n      <td>116.75</td>\n      <td>116.98</td>\n      <td>115.38</td>\n      <td>115.75</td>\n      <td>-0.46</td>\n    </tr>\n    <tr>\n      <th>3</th>\n      <td>6564</td>\n      <td>1997-01-07</td>\n      <td>115.74</td>\n      <td>116.02</td>\n      <td>114.80</td>\n      <td>115.25</td>\n      <td>-0.43</td>\n    </tr>\n    <tr>\n      <th>4</th>\n      <td>6565</td>\n      <td>1997-01-08</td>\n      <td>115.22</td>\n      <td>116.00</td>\n      <td>114.90</td>\n      <td>115.73</td>\n      <td>0.42</td>\n    </tr>\n    <tr>\n      <th>...</th>\n      <td>...</td>\n      <td>...</td>\n      <td>...</td>\n      <td>...</td>\n      <td>...</td>\n      <td>...</td>\n      <td>...</td>\n    </tr>\n    <tr>\n      <th>6309</th>\n      <td>12870</td>\n      <td>2021-04-27</td>\n      <td>108.09</td>\n      <td>108.78</td>\n      <td>108.09</td>\n      <td>108.72</td>\n      <td>0.58</td>\n    </tr>\n    <tr>\n      <th>6310</th>\n      <td>12871</td>\n      <td>2021-04-28</td>\n      <td>108.71</td>\n      <td>109.08</td>\n      <td>108.56</td>\n      <td>108.60</td>\n      <td>-0.11</td>\n    </tr>\n    <tr>\n      <th>6311</th>\n      <td>12872</td>\n      <td>2021-04-29</td>\n      <td>108.60</td>\n      <td>109.22</td>\n      <td>108.44</td>\n      <td>108.94</td>\n      <td>0.31</td>\n    </tr>\n    <tr>\n      <th>6312</th>\n      <td>12873</td>\n      <td>2021-04-30</td>\n      <td>108.94</td>\n      <td>109.34</td>\n      <td>108.72</td>\n      <td>109.29</td>\n      <td>0.32</td>\n    </tr>\n    <tr>\n      <th>6313</th>\n      <td>12874</td>\n      <td>2021-04-30</td>\n      <td>108.94</td>\n      <td>109.34</td>\n      <td>108.72</td>\n      <td>109.29</td>\n      <td>0.00</td>\n    </tr>\n  </tbody>\n</table>\n<p>6314 rows × 7 columns</p>\n</div>"
     },
     "metadata": {},
     "execution_count": 29
    }
   ],
   "source": [
    "df"
   ]
  },
  {
   "cell_type": "code",
   "execution_count": 30,
   "metadata": {},
   "outputs": [
    {
     "output_type": "execute_result",
     "data": {
      "text/plain": [
       "      SMA5/current  SMA20/current    RSI  MACD  BBANDS+2σ  BBANDS-2σ\n",
       "0              NaN            NaN    NaN   NaN        NaN        NaN\n",
       "1              NaN            NaN    NaN   NaN        NaN        NaN\n",
       "2              NaN            NaN    NaN   NaN        NaN        NaN\n",
       "3              NaN            NaN    NaN   NaN        NaN        NaN\n",
       "4             1.00            NaN    NaN   NaN        NaN        NaN\n",
       "...            ...            ...    ...   ...        ...        ...\n",
       "6309          0.99            1.0  50.92 -0.15       1.03       0.98\n",
       "6310          1.00            1.0  49.17 -0.13       1.03       0.98\n",
       "6311          1.00            1.0  53.97 -0.09       1.02       0.98\n",
       "6312          0.99            1.0  58.42 -0.03       1.01       0.98\n",
       "6313          1.00            1.0  58.42  0.02       1.01       0.98\n",
       "\n",
       "[6314 rows x 6 columns]"
      ],
      "text/html": "<div>\n<style scoped>\n    .dataframe tbody tr th:only-of-type {\n        vertical-align: middle;\n    }\n\n    .dataframe tbody tr th {\n        vertical-align: top;\n    }\n\n    .dataframe thead th {\n        text-align: right;\n    }\n</style>\n<table border=\"1\" class=\"dataframe\">\n  <thead>\n    <tr style=\"text-align: right;\">\n      <th></th>\n      <th>SMA5/current</th>\n      <th>SMA20/current</th>\n      <th>RSI</th>\n      <th>MACD</th>\n      <th>BBANDS+2σ</th>\n      <th>BBANDS-2σ</th>\n    </tr>\n  </thead>\n  <tbody>\n    <tr>\n      <th>0</th>\n      <td>NaN</td>\n      <td>NaN</td>\n      <td>NaN</td>\n      <td>NaN</td>\n      <td>NaN</td>\n      <td>NaN</td>\n    </tr>\n    <tr>\n      <th>1</th>\n      <td>NaN</td>\n      <td>NaN</td>\n      <td>NaN</td>\n      <td>NaN</td>\n      <td>NaN</td>\n      <td>NaN</td>\n    </tr>\n    <tr>\n      <th>2</th>\n      <td>NaN</td>\n      <td>NaN</td>\n      <td>NaN</td>\n      <td>NaN</td>\n      <td>NaN</td>\n      <td>NaN</td>\n    </tr>\n    <tr>\n      <th>3</th>\n      <td>NaN</td>\n      <td>NaN</td>\n      <td>NaN</td>\n      <td>NaN</td>\n      <td>NaN</td>\n      <td>NaN</td>\n    </tr>\n    <tr>\n      <th>4</th>\n      <td>1.00</td>\n      <td>NaN</td>\n      <td>NaN</td>\n      <td>NaN</td>\n      <td>NaN</td>\n      <td>NaN</td>\n    </tr>\n    <tr>\n      <th>...</th>\n      <td>...</td>\n      <td>...</td>\n      <td>...</td>\n      <td>...</td>\n      <td>...</td>\n      <td>...</td>\n    </tr>\n    <tr>\n      <th>6309</th>\n      <td>0.99</td>\n      <td>1.0</td>\n      <td>50.92</td>\n      <td>-0.15</td>\n      <td>1.03</td>\n      <td>0.98</td>\n    </tr>\n    <tr>\n      <th>6310</th>\n      <td>1.00</td>\n      <td>1.0</td>\n      <td>49.17</td>\n      <td>-0.13</td>\n      <td>1.03</td>\n      <td>0.98</td>\n    </tr>\n    <tr>\n      <th>6311</th>\n      <td>1.00</td>\n      <td>1.0</td>\n      <td>53.97</td>\n      <td>-0.09</td>\n      <td>1.02</td>\n      <td>0.98</td>\n    </tr>\n    <tr>\n      <th>6312</th>\n      <td>0.99</td>\n      <td>1.0</td>\n      <td>58.42</td>\n      <td>-0.03</td>\n      <td>1.01</td>\n      <td>0.98</td>\n    </tr>\n    <tr>\n      <th>6313</th>\n      <td>1.00</td>\n      <td>1.0</td>\n      <td>58.42</td>\n      <td>0.02</td>\n      <td>1.01</td>\n      <td>0.98</td>\n    </tr>\n  </tbody>\n</table>\n<p>6314 rows × 6 columns</p>\n</div>"
     },
     "metadata": {},
     "execution_count": 30
    }
   ],
   "source": [
    "df_feature"
   ]
  },
  {
   "cell_type": "code",
   "execution_count": 31,
   "metadata": {},
   "outputs": [],
   "source": [
    "def classify(x):\n",
    "#前日比が-0.2%以下ならグループ０\n",
    "    if x <= -0.2:\n",
    "        return 0\n",
    "#前日比が0.2%<x<0.2%ならグループ1\n",
    "    elif -0.2 < x < 0.2:\n",
    "        return 1\n",
    "#前日比が0.2%以上ならグループ２\n",
    "    elif 0.2 <= x:\n",
    "        return 2"
   ]
  },
  {
   "cell_type": "code",
   "execution_count": 32,
   "metadata": {},
   "outputs": [],
   "source": [
    "# df[\"前日比_float\"] = df[\"前日比%\"].apply(lambda x: float(x.replace(\"%\", \"\")))\n",
    "\n",
    "#前日比%の分類の仕方。できるだけ各クラスのサンプルが等しいようにわける\n",
    "def classify(x):\n",
    "    if x <= -0.2:\n",
    "        return 0\n",
    "    elif -0.2 < x < 0.2:\n",
    "        return 1\n",
    "    elif 0.2 <= x:\n",
    "        return 2\n",
    "\n",
    "\n",
    "df[\"前日比_classified\"] = df[\"前日比\"].apply(lambda x: classify(x))\n",
    "\n",
    "#教師にしたいデータを一日ずつずらす\n",
    "df_y = df[\"前日比_classified\"].shift(-1)\n",
    "df[\"df_y\"] = df[\"前日比_classified\"].shift(-1)"
   ]
  },
  {
   "cell_type": "code",
   "execution_count": 33,
   "metadata": {},
   "outputs": [
    {
     "output_type": "execute_result",
     "data": {
      "text/plain": [
       "    index        Date    Open    High     Low   Close       前日比  \\\n",
       "0    6561  1997-01-02  115.85  116.20  115.28  115.60       NaN   \n",
       "1    6562  1997-01-03  115.65  116.70  115.35  116.28  5.88e-01   \n",
       "2    6563  1997-01-06  116.75  116.98  115.38  115.75 -4.56e-01   \n",
       "3    6564  1997-01-07  115.74  116.02  114.80  115.25 -4.32e-01   \n",
       "4    6565  1997-01-08  115.22  116.00  114.90  115.73  4.16e-01   \n",
       "5    6566  1997-01-09  115.83  116.45  115.65  116.36  5.44e-01   \n",
       "6    6567  1997-01-10  116.37  116.67  115.24  116.05 -2.66e-01   \n",
       "7    6568  1997-01-13  116.05  116.54  115.85  116.45  3.45e-01   \n",
       "8    6569  1997-01-14  116.21  117.04  116.20  116.86  3.52e-01   \n",
       "9    6570  1997-01-15  116.93  117.48  116.70  116.85 -8.56e-03   \n",
       "10   6571  1997-01-16  116.78  117.32  116.25  116.48 -3.17e-01   \n",
       "11   6572  1997-01-17  116.55  117.38  116.48  117.30  7.04e-01   \n",
       "12   6573  1997-01-20  117.35  118.29  117.20  117.98  5.80e-01   \n",
       "13   6574  1997-01-21  117.91  118.27  117.45  117.90 -6.78e-02   \n",
       "14   6575  1997-01-22  117.95  119.20  117.85  118.96  8.99e-01   \n",
       "15   6576  1997-01-23  118.94  120.00  118.69  119.31  2.94e-01   \n",
       "16   6577  1997-01-24  119.20  120.15  118.31  118.90 -3.44e-01   \n",
       "17   6578  1997-01-27  119.12  119.62  118.88  119.50  5.05e-01   \n",
       "18   6579  1997-01-28  119.50  121.77  119.50  121.05  1.30e+00   \n",
       "19   6580  1997-01-29  120.95  122.78  120.85  122.16  9.17e-01   \n",
       "20   6581  1997-01-30  122.05  122.61  120.85  121.78 -3.11e-01   \n",
       "21   6582  1997-01-31  121.70  122.31  120.95  121.40 -3.12e-01   \n",
       "22   6583  1997-02-03  121.15  122.24  121.04  121.64  1.98e-01   \n",
       "23   6584  1997-02-04  121.70  122.44  121.55  122.43  6.49e-01   \n",
       "24   6585  1997-02-05  122.46  123.85  122.43  123.35  7.51e-01   \n",
       "25   6586  1997-02-06  123.45  124.00  122.65  123.73  3.08e-01   \n",
       "26   6587  1997-02-07  123.80  124.72  121.35  122.90 -6.71e-01   \n",
       "27   6588  1997-02-10  121.17  123.30  121.00  122.75 -1.22e-01   \n",
       "28   6589  1997-02-11  122.75  123.40  122.55  123.30  4.48e-01   \n",
       "29   6590  1997-02-12  123.26  124.48  123.25  124.22  7.46e-01   \n",
       "\n",
       "    前日比_classified  df_y  \n",
       "0              NaN   2.0  \n",
       "1              2.0   0.0  \n",
       "2              0.0   0.0  \n",
       "3              0.0   2.0  \n",
       "4              2.0   2.0  \n",
       "5              2.0   0.0  \n",
       "6              0.0   2.0  \n",
       "7              2.0   2.0  \n",
       "8              2.0   1.0  \n",
       "9              1.0   0.0  \n",
       "10             0.0   2.0  \n",
       "11             2.0   2.0  \n",
       "12             2.0   1.0  \n",
       "13             1.0   2.0  \n",
       "14             2.0   2.0  \n",
       "15             2.0   0.0  \n",
       "16             0.0   2.0  \n",
       "17             2.0   2.0  \n",
       "18             2.0   2.0  \n",
       "19             2.0   0.0  \n",
       "20             0.0   0.0  \n",
       "21             0.0   1.0  \n",
       "22             1.0   2.0  \n",
       "23             2.0   2.0  \n",
       "24             2.0   2.0  \n",
       "25             2.0   0.0  \n",
       "26             0.0   1.0  \n",
       "27             1.0   2.0  \n",
       "28             2.0   2.0  \n",
       "29             2.0   1.0  "
      ],
      "text/html": "<div>\n<style scoped>\n    .dataframe tbody tr th:only-of-type {\n        vertical-align: middle;\n    }\n\n    .dataframe tbody tr th {\n        vertical-align: top;\n    }\n\n    .dataframe thead th {\n        text-align: right;\n    }\n</style>\n<table border=\"1\" class=\"dataframe\">\n  <thead>\n    <tr style=\"text-align: right;\">\n      <th></th>\n      <th>index</th>\n      <th>Date</th>\n      <th>Open</th>\n      <th>High</th>\n      <th>Low</th>\n      <th>Close</th>\n      <th>前日比</th>\n      <th>前日比_classified</th>\n      <th>df_y</th>\n    </tr>\n  </thead>\n  <tbody>\n    <tr>\n      <th>0</th>\n      <td>6561</td>\n      <td>1997-01-02</td>\n      <td>115.85</td>\n      <td>116.20</td>\n      <td>115.28</td>\n      <td>115.60</td>\n      <td>NaN</td>\n      <td>NaN</td>\n      <td>2.0</td>\n    </tr>\n    <tr>\n      <th>1</th>\n      <td>6562</td>\n      <td>1997-01-03</td>\n      <td>115.65</td>\n      <td>116.70</td>\n      <td>115.35</td>\n      <td>116.28</td>\n      <td>5.88e-01</td>\n      <td>2.0</td>\n      <td>0.0</td>\n    </tr>\n    <tr>\n      <th>2</th>\n      <td>6563</td>\n      <td>1997-01-06</td>\n      <td>116.75</td>\n      <td>116.98</td>\n      <td>115.38</td>\n      <td>115.75</td>\n      <td>-4.56e-01</td>\n      <td>0.0</td>\n      <td>0.0</td>\n    </tr>\n    <tr>\n      <th>3</th>\n      <td>6564</td>\n      <td>1997-01-07</td>\n      <td>115.74</td>\n      <td>116.02</td>\n      <td>114.80</td>\n      <td>115.25</td>\n      <td>-4.32e-01</td>\n      <td>0.0</td>\n      <td>2.0</td>\n    </tr>\n    <tr>\n      <th>4</th>\n      <td>6565</td>\n      <td>1997-01-08</td>\n      <td>115.22</td>\n      <td>116.00</td>\n      <td>114.90</td>\n      <td>115.73</td>\n      <td>4.16e-01</td>\n      <td>2.0</td>\n      <td>2.0</td>\n    </tr>\n    <tr>\n      <th>5</th>\n      <td>6566</td>\n      <td>1997-01-09</td>\n      <td>115.83</td>\n      <td>116.45</td>\n      <td>115.65</td>\n      <td>116.36</td>\n      <td>5.44e-01</td>\n      <td>2.0</td>\n      <td>0.0</td>\n    </tr>\n    <tr>\n      <th>6</th>\n      <td>6567</td>\n      <td>1997-01-10</td>\n      <td>116.37</td>\n      <td>116.67</td>\n      <td>115.24</td>\n      <td>116.05</td>\n      <td>-2.66e-01</td>\n      <td>0.0</td>\n      <td>2.0</td>\n    </tr>\n    <tr>\n      <th>7</th>\n      <td>6568</td>\n      <td>1997-01-13</td>\n      <td>116.05</td>\n      <td>116.54</td>\n      <td>115.85</td>\n      <td>116.45</td>\n      <td>3.45e-01</td>\n      <td>2.0</td>\n      <td>2.0</td>\n    </tr>\n    <tr>\n      <th>8</th>\n      <td>6569</td>\n      <td>1997-01-14</td>\n      <td>116.21</td>\n      <td>117.04</td>\n      <td>116.20</td>\n      <td>116.86</td>\n      <td>3.52e-01</td>\n      <td>2.0</td>\n      <td>1.0</td>\n    </tr>\n    <tr>\n      <th>9</th>\n      <td>6570</td>\n      <td>1997-01-15</td>\n      <td>116.93</td>\n      <td>117.48</td>\n      <td>116.70</td>\n      <td>116.85</td>\n      <td>-8.56e-03</td>\n      <td>1.0</td>\n      <td>0.0</td>\n    </tr>\n    <tr>\n      <th>10</th>\n      <td>6571</td>\n      <td>1997-01-16</td>\n      <td>116.78</td>\n      <td>117.32</td>\n      <td>116.25</td>\n      <td>116.48</td>\n      <td>-3.17e-01</td>\n      <td>0.0</td>\n      <td>2.0</td>\n    </tr>\n    <tr>\n      <th>11</th>\n      <td>6572</td>\n      <td>1997-01-17</td>\n      <td>116.55</td>\n      <td>117.38</td>\n      <td>116.48</td>\n      <td>117.30</td>\n      <td>7.04e-01</td>\n      <td>2.0</td>\n      <td>2.0</td>\n    </tr>\n    <tr>\n      <th>12</th>\n      <td>6573</td>\n      <td>1997-01-20</td>\n      <td>117.35</td>\n      <td>118.29</td>\n      <td>117.20</td>\n      <td>117.98</td>\n      <td>5.80e-01</td>\n      <td>2.0</td>\n      <td>1.0</td>\n    </tr>\n    <tr>\n      <th>13</th>\n      <td>6574</td>\n      <td>1997-01-21</td>\n      <td>117.91</td>\n      <td>118.27</td>\n      <td>117.45</td>\n      <td>117.90</td>\n      <td>-6.78e-02</td>\n      <td>1.0</td>\n      <td>2.0</td>\n    </tr>\n    <tr>\n      <th>14</th>\n      <td>6575</td>\n      <td>1997-01-22</td>\n      <td>117.95</td>\n      <td>119.20</td>\n      <td>117.85</td>\n      <td>118.96</td>\n      <td>8.99e-01</td>\n      <td>2.0</td>\n      <td>2.0</td>\n    </tr>\n    <tr>\n      <th>15</th>\n      <td>6576</td>\n      <td>1997-01-23</td>\n      <td>118.94</td>\n      <td>120.00</td>\n      <td>118.69</td>\n      <td>119.31</td>\n      <td>2.94e-01</td>\n      <td>2.0</td>\n      <td>0.0</td>\n    </tr>\n    <tr>\n      <th>16</th>\n      <td>6577</td>\n      <td>1997-01-24</td>\n      <td>119.20</td>\n      <td>120.15</td>\n      <td>118.31</td>\n      <td>118.90</td>\n      <td>-3.44e-01</td>\n      <td>0.0</td>\n      <td>2.0</td>\n    </tr>\n    <tr>\n      <th>17</th>\n      <td>6578</td>\n      <td>1997-01-27</td>\n      <td>119.12</td>\n      <td>119.62</td>\n      <td>118.88</td>\n      <td>119.50</td>\n      <td>5.05e-01</td>\n      <td>2.0</td>\n      <td>2.0</td>\n    </tr>\n    <tr>\n      <th>18</th>\n      <td>6579</td>\n      <td>1997-01-28</td>\n      <td>119.50</td>\n      <td>121.77</td>\n      <td>119.50</td>\n      <td>121.05</td>\n      <td>1.30e+00</td>\n      <td>2.0</td>\n      <td>2.0</td>\n    </tr>\n    <tr>\n      <th>19</th>\n      <td>6580</td>\n      <td>1997-01-29</td>\n      <td>120.95</td>\n      <td>122.78</td>\n      <td>120.85</td>\n      <td>122.16</td>\n      <td>9.17e-01</td>\n      <td>2.0</td>\n      <td>0.0</td>\n    </tr>\n    <tr>\n      <th>20</th>\n      <td>6581</td>\n      <td>1997-01-30</td>\n      <td>122.05</td>\n      <td>122.61</td>\n      <td>120.85</td>\n      <td>121.78</td>\n      <td>-3.11e-01</td>\n      <td>0.0</td>\n      <td>0.0</td>\n    </tr>\n    <tr>\n      <th>21</th>\n      <td>6582</td>\n      <td>1997-01-31</td>\n      <td>121.70</td>\n      <td>122.31</td>\n      <td>120.95</td>\n      <td>121.40</td>\n      <td>-3.12e-01</td>\n      <td>0.0</td>\n      <td>1.0</td>\n    </tr>\n    <tr>\n      <th>22</th>\n      <td>6583</td>\n      <td>1997-02-03</td>\n      <td>121.15</td>\n      <td>122.24</td>\n      <td>121.04</td>\n      <td>121.64</td>\n      <td>1.98e-01</td>\n      <td>1.0</td>\n      <td>2.0</td>\n    </tr>\n    <tr>\n      <th>23</th>\n      <td>6584</td>\n      <td>1997-02-04</td>\n      <td>121.70</td>\n      <td>122.44</td>\n      <td>121.55</td>\n      <td>122.43</td>\n      <td>6.49e-01</td>\n      <td>2.0</td>\n      <td>2.0</td>\n    </tr>\n    <tr>\n      <th>24</th>\n      <td>6585</td>\n      <td>1997-02-05</td>\n      <td>122.46</td>\n      <td>123.85</td>\n      <td>122.43</td>\n      <td>123.35</td>\n      <td>7.51e-01</td>\n      <td>2.0</td>\n      <td>2.0</td>\n    </tr>\n    <tr>\n      <th>25</th>\n      <td>6586</td>\n      <td>1997-02-06</td>\n      <td>123.45</td>\n      <td>124.00</td>\n      <td>122.65</td>\n      <td>123.73</td>\n      <td>3.08e-01</td>\n      <td>2.0</td>\n      <td>0.0</td>\n    </tr>\n    <tr>\n      <th>26</th>\n      <td>6587</td>\n      <td>1997-02-07</td>\n      <td>123.80</td>\n      <td>124.72</td>\n      <td>121.35</td>\n      <td>122.90</td>\n      <td>-6.71e-01</td>\n      <td>0.0</td>\n      <td>1.0</td>\n    </tr>\n    <tr>\n      <th>27</th>\n      <td>6588</td>\n      <td>1997-02-10</td>\n      <td>121.17</td>\n      <td>123.30</td>\n      <td>121.00</td>\n      <td>122.75</td>\n      <td>-1.22e-01</td>\n      <td>1.0</td>\n      <td>2.0</td>\n    </tr>\n    <tr>\n      <th>28</th>\n      <td>6589</td>\n      <td>1997-02-11</td>\n      <td>122.75</td>\n      <td>123.40</td>\n      <td>122.55</td>\n      <td>123.30</td>\n      <td>4.48e-01</td>\n      <td>2.0</td>\n      <td>2.0</td>\n    </tr>\n    <tr>\n      <th>29</th>\n      <td>6590</td>\n      <td>1997-02-12</td>\n      <td>123.26</td>\n      <td>124.48</td>\n      <td>123.25</td>\n      <td>124.22</td>\n      <td>7.46e-01</td>\n      <td>2.0</td>\n      <td>1.0</td>\n    </tr>\n  </tbody>\n</table>\n</div>"
     },
     "metadata": {},
     "execution_count": 33
    }
   ],
   "source": [
    "df.head(30)"
   ]
  },
  {
   "cell_type": "code",
   "execution_count": 34,
   "metadata": {},
   "outputs": [],
   "source": [
    "df_xy = pd.concat([df_feature, df_y], axis=1)\n",
    "df_xy = df_xy.dropna(how=\"any\")"
   ]
  },
  {
   "cell_type": "code",
   "execution_count": 35,
   "metadata": {},
   "outputs": [
    {
     "output_type": "execute_result",
     "data": {
      "text/plain": [
       "      SMA5/current  SMA20/current    RSI  MACD  BBANDS+2σ  BBANDS-2σ  \\\n",
       "6284          1.00           0.99  65.86  0.88       1.02       0.97   \n",
       "6285          1.00           0.99  67.19  0.83       1.02       0.97   \n",
       "6286          1.00           0.99  71.03  0.82       1.02       0.97   \n",
       "6287          0.99           0.99  74.81  0.83       1.01       0.97   \n",
       "6288          0.99           0.99  75.95  0.85       1.01       0.97   \n",
       "6289          0.99           0.99  79.25  0.90       1.00       0.97   \n",
       "6290          0.99           0.98  81.16  0.96       1.00       0.97   \n",
       "6291          1.00           0.99  78.31  0.98       1.01       0.97   \n",
       "6292          1.00           0.99  78.81  0.99       1.01       0.97   \n",
       "6293          1.00           0.99  68.27  0.95       1.01       0.97   \n",
       "6294          1.01           1.00  61.98  0.88       1.02       0.98   \n",
       "6295          1.00           1.00  62.63  0.81       1.02       0.98   \n",
       "6296          1.01           1.00  53.88  0.71       1.02       0.98   \n",
       "6297          1.00           1.00  58.03  0.65       1.02       0.98   \n",
       "6298          1.00           1.00  54.42  0.57       1.02       0.98   \n",
       "6299          1.00           1.00  50.07  0.48       1.02       0.99   \n",
       "6300          1.00           1.01  48.64  0.40       1.02       0.99   \n",
       "6301          1.00           1.01  46.22  0.31       1.03       0.99   \n",
       "6302          1.00           1.01  46.79  0.24       1.03       0.99   \n",
       "6303          1.01           1.01  39.51  0.13       1.03       0.99   \n",
       "6304          1.00           1.01  38.76  0.04       1.03       0.99   \n",
       "6305          1.00           1.01  38.64 -0.03       1.04       0.99   \n",
       "6306          1.00           1.01  37.40 -0.10       1.04       0.99   \n",
       "6307          1.00           1.01  36.62 -0.15       1.04       0.99   \n",
       "6308          1.00           1.01  40.61 -0.18       1.04       0.98   \n",
       "6309          0.99           1.00  50.92 -0.15       1.03       0.98   \n",
       "6310          1.00           1.00  49.17 -0.13       1.03       0.98   \n",
       "6311          1.00           1.00  53.97 -0.09       1.02       0.98   \n",
       "6312          0.99           1.00  58.42 -0.03       1.01       0.98   \n",
       "6313          1.00           1.00  58.42  0.02       1.01       0.98   \n",
       "\n",
       "      前日比_classified   Close  \n",
       "6284             1.0  108.62  \n",
       "6285             2.0  108.75  \n",
       "6286             2.0  109.16  \n",
       "6287             1.0  109.66  \n",
       "6288             2.0  109.82  \n",
       "6289             2.0  110.36  \n",
       "6290             1.0  110.73  \n",
       "6291             1.0  110.59  \n",
       "6292             0.0  110.68  \n",
       "6293             0.0  110.15  \n",
       "6294             1.0  109.78  \n",
       "6295             0.0  109.84  \n",
       "6296             2.0  109.27  \n",
       "6297             0.0  109.65  \n",
       "6298             0.0  109.39  \n",
       "6299             1.0  109.05  \n",
       "6300             1.0  108.94  \n",
       "6301             1.0  108.74  \n",
       "6302             0.0  108.78  \n",
       "6303             1.0  108.15  \n",
       "6304             1.0  108.08  \n",
       "6305             1.0  108.07  \n",
       "6306             1.0  107.96  \n",
       "6307             1.0  107.89  \n",
       "6308             2.0  108.09  \n",
       "6309             1.0  108.72  \n",
       "6310             2.0  108.60  \n",
       "6311             2.0  108.94  \n",
       "6312             1.0  109.29  \n",
       "6313             NaN  109.29  "
      ],
      "text/html": "<div>\n<style scoped>\n    .dataframe tbody tr th:only-of-type {\n        vertical-align: middle;\n    }\n\n    .dataframe tbody tr th {\n        vertical-align: top;\n    }\n\n    .dataframe thead th {\n        text-align: right;\n    }\n</style>\n<table border=\"1\" class=\"dataframe\">\n  <thead>\n    <tr style=\"text-align: right;\">\n      <th></th>\n      <th>SMA5/current</th>\n      <th>SMA20/current</th>\n      <th>RSI</th>\n      <th>MACD</th>\n      <th>BBANDS+2σ</th>\n      <th>BBANDS-2σ</th>\n      <th>前日比_classified</th>\n      <th>Close</th>\n    </tr>\n  </thead>\n  <tbody>\n    <tr>\n      <th>6284</th>\n      <td>1.00</td>\n      <td>0.99</td>\n      <td>65.86</td>\n      <td>0.88</td>\n      <td>1.02</td>\n      <td>0.97</td>\n      <td>1.0</td>\n      <td>108.62</td>\n    </tr>\n    <tr>\n      <th>6285</th>\n      <td>1.00</td>\n      <td>0.99</td>\n      <td>67.19</td>\n      <td>0.83</td>\n      <td>1.02</td>\n      <td>0.97</td>\n      <td>2.0</td>\n      <td>108.75</td>\n    </tr>\n    <tr>\n      <th>6286</th>\n      <td>1.00</td>\n      <td>0.99</td>\n      <td>71.03</td>\n      <td>0.82</td>\n      <td>1.02</td>\n      <td>0.97</td>\n      <td>2.0</td>\n      <td>109.16</td>\n    </tr>\n    <tr>\n      <th>6287</th>\n      <td>0.99</td>\n      <td>0.99</td>\n      <td>74.81</td>\n      <td>0.83</td>\n      <td>1.01</td>\n      <td>0.97</td>\n      <td>1.0</td>\n      <td>109.66</td>\n    </tr>\n    <tr>\n      <th>6288</th>\n      <td>0.99</td>\n      <td>0.99</td>\n      <td>75.95</td>\n      <td>0.85</td>\n      <td>1.01</td>\n      <td>0.97</td>\n      <td>2.0</td>\n      <td>109.82</td>\n    </tr>\n    <tr>\n      <th>6289</th>\n      <td>0.99</td>\n      <td>0.99</td>\n      <td>79.25</td>\n      <td>0.90</td>\n      <td>1.00</td>\n      <td>0.97</td>\n      <td>2.0</td>\n      <td>110.36</td>\n    </tr>\n    <tr>\n      <th>6290</th>\n      <td>0.99</td>\n      <td>0.98</td>\n      <td>81.16</td>\n      <td>0.96</td>\n      <td>1.00</td>\n      <td>0.97</td>\n      <td>1.0</td>\n      <td>110.73</td>\n    </tr>\n    <tr>\n      <th>6291</th>\n      <td>1.00</td>\n      <td>0.99</td>\n      <td>78.31</td>\n      <td>0.98</td>\n      <td>1.01</td>\n      <td>0.97</td>\n      <td>1.0</td>\n      <td>110.59</td>\n    </tr>\n    <tr>\n      <th>6292</th>\n      <td>1.00</td>\n      <td>0.99</td>\n      <td>78.81</td>\n      <td>0.99</td>\n      <td>1.01</td>\n      <td>0.97</td>\n      <td>0.0</td>\n      <td>110.68</td>\n    </tr>\n    <tr>\n      <th>6293</th>\n      <td>1.00</td>\n      <td>0.99</td>\n      <td>68.27</td>\n      <td>0.95</td>\n      <td>1.01</td>\n      <td>0.97</td>\n      <td>0.0</td>\n      <td>110.15</td>\n    </tr>\n    <tr>\n      <th>6294</th>\n      <td>1.01</td>\n      <td>1.00</td>\n      <td>61.98</td>\n      <td>0.88</td>\n      <td>1.02</td>\n      <td>0.98</td>\n      <td>1.0</td>\n      <td>109.78</td>\n    </tr>\n    <tr>\n      <th>6295</th>\n      <td>1.00</td>\n      <td>1.00</td>\n      <td>62.63</td>\n      <td>0.81</td>\n      <td>1.02</td>\n      <td>0.98</td>\n      <td>0.0</td>\n      <td>109.84</td>\n    </tr>\n    <tr>\n      <th>6296</th>\n      <td>1.01</td>\n      <td>1.00</td>\n      <td>53.88</td>\n      <td>0.71</td>\n      <td>1.02</td>\n      <td>0.98</td>\n      <td>2.0</td>\n      <td>109.27</td>\n    </tr>\n    <tr>\n      <th>6297</th>\n      <td>1.00</td>\n      <td>1.00</td>\n      <td>58.03</td>\n      <td>0.65</td>\n      <td>1.02</td>\n      <td>0.98</td>\n      <td>0.0</td>\n      <td>109.65</td>\n    </tr>\n    <tr>\n      <th>6298</th>\n      <td>1.00</td>\n      <td>1.00</td>\n      <td>54.42</td>\n      <td>0.57</td>\n      <td>1.02</td>\n      <td>0.98</td>\n      <td>0.0</td>\n      <td>109.39</td>\n    </tr>\n    <tr>\n      <th>6299</th>\n      <td>1.00</td>\n      <td>1.00</td>\n      <td>50.07</td>\n      <td>0.48</td>\n      <td>1.02</td>\n      <td>0.99</td>\n      <td>1.0</td>\n      <td>109.05</td>\n    </tr>\n    <tr>\n      <th>6300</th>\n      <td>1.00</td>\n      <td>1.01</td>\n      <td>48.64</td>\n      <td>0.40</td>\n      <td>1.02</td>\n      <td>0.99</td>\n      <td>1.0</td>\n      <td>108.94</td>\n    </tr>\n    <tr>\n      <th>6301</th>\n      <td>1.00</td>\n      <td>1.01</td>\n      <td>46.22</td>\n      <td>0.31</td>\n      <td>1.03</td>\n      <td>0.99</td>\n      <td>1.0</td>\n      <td>108.74</td>\n    </tr>\n    <tr>\n      <th>6302</th>\n      <td>1.00</td>\n      <td>1.01</td>\n      <td>46.79</td>\n      <td>0.24</td>\n      <td>1.03</td>\n      <td>0.99</td>\n      <td>0.0</td>\n      <td>108.78</td>\n    </tr>\n    <tr>\n      <th>6303</th>\n      <td>1.01</td>\n      <td>1.01</td>\n      <td>39.51</td>\n      <td>0.13</td>\n      <td>1.03</td>\n      <td>0.99</td>\n      <td>1.0</td>\n      <td>108.15</td>\n    </tr>\n    <tr>\n      <th>6304</th>\n      <td>1.00</td>\n      <td>1.01</td>\n      <td>38.76</td>\n      <td>0.04</td>\n      <td>1.03</td>\n      <td>0.99</td>\n      <td>1.0</td>\n      <td>108.08</td>\n    </tr>\n    <tr>\n      <th>6305</th>\n      <td>1.00</td>\n      <td>1.01</td>\n      <td>38.64</td>\n      <td>-0.03</td>\n      <td>1.04</td>\n      <td>0.99</td>\n      <td>1.0</td>\n      <td>108.07</td>\n    </tr>\n    <tr>\n      <th>6306</th>\n      <td>1.00</td>\n      <td>1.01</td>\n      <td>37.40</td>\n      <td>-0.10</td>\n      <td>1.04</td>\n      <td>0.99</td>\n      <td>1.0</td>\n      <td>107.96</td>\n    </tr>\n    <tr>\n      <th>6307</th>\n      <td>1.00</td>\n      <td>1.01</td>\n      <td>36.62</td>\n      <td>-0.15</td>\n      <td>1.04</td>\n      <td>0.99</td>\n      <td>1.0</td>\n      <td>107.89</td>\n    </tr>\n    <tr>\n      <th>6308</th>\n      <td>1.00</td>\n      <td>1.01</td>\n      <td>40.61</td>\n      <td>-0.18</td>\n      <td>1.04</td>\n      <td>0.98</td>\n      <td>2.0</td>\n      <td>108.09</td>\n    </tr>\n    <tr>\n      <th>6309</th>\n      <td>0.99</td>\n      <td>1.00</td>\n      <td>50.92</td>\n      <td>-0.15</td>\n      <td>1.03</td>\n      <td>0.98</td>\n      <td>1.0</td>\n      <td>108.72</td>\n    </tr>\n    <tr>\n      <th>6310</th>\n      <td>1.00</td>\n      <td>1.00</td>\n      <td>49.17</td>\n      <td>-0.13</td>\n      <td>1.03</td>\n      <td>0.98</td>\n      <td>2.0</td>\n      <td>108.60</td>\n    </tr>\n    <tr>\n      <th>6311</th>\n      <td>1.00</td>\n      <td>1.00</td>\n      <td>53.97</td>\n      <td>-0.09</td>\n      <td>1.02</td>\n      <td>0.98</td>\n      <td>2.0</td>\n      <td>108.94</td>\n    </tr>\n    <tr>\n      <th>6312</th>\n      <td>0.99</td>\n      <td>1.00</td>\n      <td>58.42</td>\n      <td>-0.03</td>\n      <td>1.01</td>\n      <td>0.98</td>\n      <td>1.0</td>\n      <td>109.29</td>\n    </tr>\n    <tr>\n      <th>6313</th>\n      <td>1.00</td>\n      <td>1.00</td>\n      <td>58.42</td>\n      <td>0.02</td>\n      <td>1.01</td>\n      <td>0.98</td>\n      <td>NaN</td>\n      <td>109.29</td>\n    </tr>\n  </tbody>\n</table>\n</div>"
     },
     "metadata": {},
     "execution_count": 35
    }
   ],
   "source": [
    "pd.concat([df_feature, df_y,df[\"Close\"]], axis=1).tail(30)"
   ]
  },
  {
   "cell_type": "code",
   "execution_count": 36,
   "metadata": {
    "tags": []
   },
   "outputs": [
    {
     "output_type": "stream",
     "name": "stderr",
     "text": [
      "\u001b[32m[I 2021-05-05 18:41:09,140]\u001b[0m A new study created in memory with name: no-name-18623c98-ff7b-4521-bdd9-ea618c812830\u001b[0m\n",
      "\u001b[32m[I 2021-05-05 18:41:11,829]\u001b[0m Trial 0 finished with value: 0.6035031847133758 and parameters: {'min_samples_split': 15, 'max_leaf_nodes': 4.0, 'criterion': 'gini', 'n_estimators': 50.0, 'max_depth': 10}. Best is trial 0 with value: 0.6035031847133758.\u001b[0m\n",
      "\u001b[32m[I 2021-05-05 18:41:25,494]\u001b[0m Trial 1 finished with value: 0.6106687898089171 and parameters: {'min_samples_split': 4, 'max_leaf_nodes': 4.0, 'criterion': 'entropy', 'n_estimators': 150.0, 'max_depth': 10}. Best is trial 1 with value: 0.6106687898089171.\u001b[0m\n",
      "\u001b[32m[I 2021-05-05 18:41:30,025]\u001b[0m Trial 2 finished with value: 0.6090764331210191 and parameters: {'min_samples_split': 5, 'max_leaf_nodes': 8.0, 'criterion': 'entropy', 'n_estimators': 50.0, 'max_depth': 9}. Best is trial 1 with value: 0.6106687898089171.\u001b[0m\n",
      "\u001b[32m[I 2021-05-05 18:41:44,613]\u001b[0m Trial 3 finished with value: 0.6074840764331211 and parameters: {'min_samples_split': 12, 'max_leaf_nodes': 4.0, 'criterion': 'gini', 'n_estimators': 450.0, 'max_depth': 10}. Best is trial 1 with value: 0.6106687898089171.\u001b[0m\n",
      "\u001b[32m[I 2021-05-05 18:41:49,366]\u001b[0m Trial 4 finished with value: 0.6035031847133758 and parameters: {'min_samples_split': 4, 'max_leaf_nodes': 28.0, 'criterion': 'gini', 'n_estimators': 100.0, 'max_depth': 5}. Best is trial 1 with value: 0.6106687898089171.\u001b[0m\n"
     ]
    }
   ],
   "source": [
    "from sklearn.model_selection import train_test_split\n",
    "from sklearn.ensemble import RandomForestClassifier\n",
    "from sklearn.metrics import accuracy_score\n",
    "import optuna\n",
    "\n",
    "X_train, X_test, Y_train, Y_test = train_test_split(df_xy[[\"SMA5/current\", \"SMA20/current\",\"RSI\",\"MACD\",\"BBANDS+2σ\",\"BBANDS-2σ\"]],df_xy[\"前日比_classified\"], train_size=0.8,shuffle=False)\n",
    "\n",
    "def objective(trial):\n",
    "    min_samples_split = trial.suggest_int(\"min_samples_split\", 2,16)\n",
    "    max_leaf_nodes = int(trial.suggest_discrete_uniform(\"max_leaf_nodes\", 4,64,4))\n",
    "    criterion = trial.suggest_categorical(\"criterion\", [\"gini\", \"entropy\"])\n",
    "    n_estimators = int(trial.suggest_discrete_uniform(\"n_estimators\", 50,500,50))\n",
    "    max_depth = trial.suggest_int(\"max_depth\", 3,10)\n",
    "    clf = RandomForestClassifier(random_state=1, n_estimators = n_estimators, max_leaf_nodes = max_leaf_nodes, max_depth=max_depth, max_features=None,criterion=criterion,min_samples_split=min_samples_split)\n",
    "    clf.fit(X_train, Y_train)\n",
    "    return 1 - accuracy_score(Y_test, clf.predict(X_test))\n",
    "\n",
    "study = optuna.create_study(direction='maximize')\n",
    "#study.optimize(objective, n_trials=100)\n",
    "study.optimize(objective, n_trials=5)\n"
   ]
  },
  {
   "cell_type": "code",
   "execution_count": 37,
   "metadata": {},
   "outputs": [
    {
     "output_type": "stream",
     "name": "stdout",
     "text": [
      "Accuracy: 0.6106687898089171\nBest hyperparameters: {'min_samples_split': 4, 'max_leaf_nodes': 4.0, 'criterion': 'entropy', 'n_estimators': 150.0, 'max_depth': 10}\n"
     ]
    }
   ],
   "source": [
    "#ベストな結果、パラメータの表示\n",
    "print('Accuracy: {}'.format(study.best_trial.value))\n",
    "print(\"Best hyperparameters: {}\".format(study.best_trial.params))"
   ]
  },
  {
   "cell_type": "code",
   "execution_count": 38,
   "metadata": {},
   "outputs": [
    {
     "output_type": "execute_result",
     "data": {
      "text/plain": [
       "RandomForestClassifier(max_depth=30, n_estimators=30, random_state=42)"
      ]
     },
     "metadata": {},
     "execution_count": 38
    }
   ],
   "source": [
    "clf = RandomForestClassifier(max_depth=30, n_estimators=30, random_state=42)\n",
    "clf.fit(X_train, Y_train)"
   ]
  },
  {
   "cell_type": "code",
   "execution_count": 39,
   "metadata": {},
   "outputs": [
    {
     "output_type": "stream",
     "name": "stdout",
     "text": [
      "Accuracy: 0.3630573248407643\n"
     ]
    }
   ],
   "source": [
    "Y_pred = clf.predict(X_test)\n",
    "accuracy = accuracy_score(Y_test, Y_pred)\n",
    "print('Accuracy: {}'.format(accuracy))"
   ]
  },
  {
   "cell_type": "code",
   "execution_count": 40,
   "metadata": {},
   "outputs": [],
   "source": [
    "# チューニングしたハイパーパラメーターをフィット\n",
    "optimised_rf = RandomForestClassifier(random_state=1, n_estimators = int(study.best_params['n_estimators']), max_leaf_nodes = int(study.best_params['max_leaf_nodes']), max_depth=study.best_params['max_depth'], max_features=None,criterion=study.best_params['criterion'],min_samples_split=study.best_params['min_samples_split'])"
   ]
  },
  {
   "cell_type": "code",
   "execution_count": 41,
   "metadata": {},
   "outputs": [
    {
     "output_type": "stream",
     "name": "stdout",
     "text": [
      "Accuracy: 0.3893312101910828\n"
     ]
    }
   ],
   "source": [
    "optimised_rf.fit(X_train, Y_train)\n",
    "Y_pred = optimised_rf.predict(X_test)\n",
    "accuracy = accuracy_score(Y_test, Y_pred)\n",
    "print('Accuracy: {}'.format(accuracy))"
   ]
  },
  {
   "cell_type": "code",
   "execution_count": null,
   "metadata": {},
   "outputs": [],
   "source": []
  }
 ]
}