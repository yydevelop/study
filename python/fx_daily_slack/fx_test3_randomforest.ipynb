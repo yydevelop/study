{
 "metadata": {
  "language_info": {
   "codemirror_mode": {
    "name": "ipython",
    "version": 3
   },
   "file_extension": ".py",
   "mimetype": "text/x-python",
   "name": "python",
   "nbconvert_exporter": "python",
   "pygments_lexer": "ipython3",
   "version": "3.8.8"
  },
  "orig_nbformat": 2,
  "kernelspec": {
   "name": "python388jvsc74a57bd0716fbbd92a13ad18c91e0530cf34e461b7b6b5d8d0684ef77aa6c15e96b2fbea",
   "display_name": "Python 3.8.8 64-bit"
  }
 },
 "nbformat": 4,
 "nbformat_minor": 2,
 "cells": [
  {
   "cell_type": "code",
   "execution_count": 255,
   "metadata": {},
   "outputs": [],
   "source": [
    "import pandas as pd\n",
    "df = pd.read_csv(\"USDJPY2.csv\")"
   ]
  },
  {
   "cell_type": "code",
   "execution_count": 256,
   "metadata": {},
   "outputs": [
    {
     "output_type": "execute_result",
     "data": {
      "text/plain": [
       "              日付け      終値      始値      高値      安値    前日比%\n",
       "0     2021年04月29日  108.91  108.60  109.23  108.43   0.29%\n",
       "1     2021年04月28日  108.59  108.74  109.08  108.57  -0.08%\n",
       "2     2021年04月27日  108.68  108.07  108.78  108.07   0.56%\n",
       "3     2021年04月26日  108.08  107.99  108.21  107.64   0.16%\n",
       "4     2021年04月23日  107.91  107.96  108.15  107.47  -0.05%\n",
       "...           ...     ...     ...     ...     ...     ...\n",
       "4254  2005年01月07日  104.80  104.97  105.17  103.83  -0.26%\n",
       "4255  2005年01月06日  105.07  104.12  105.20  103.85   0.94%\n",
       "4256  2005年01月05日  104.09  104.56  105.03  103.73  -0.50%\n",
       "4257  2005年01月04日  104.61  102.77  104.81  102.41   1.84%\n",
       "4258  2005年01月03日  102.72  102.69  103.47  102.33   0.24%\n",
       "\n",
       "[4259 rows x 6 columns]"
      ],
      "text/html": "<div>\n<style scoped>\n    .dataframe tbody tr th:only-of-type {\n        vertical-align: middle;\n    }\n\n    .dataframe tbody tr th {\n        vertical-align: top;\n    }\n\n    .dataframe thead th {\n        text-align: right;\n    }\n</style>\n<table border=\"1\" class=\"dataframe\">\n  <thead>\n    <tr style=\"text-align: right;\">\n      <th></th>\n      <th>日付け</th>\n      <th>終値</th>\n      <th>始値</th>\n      <th>高値</th>\n      <th>安値</th>\n      <th>前日比%</th>\n    </tr>\n  </thead>\n  <tbody>\n    <tr>\n      <th>0</th>\n      <td>2021年04月29日</td>\n      <td>108.91</td>\n      <td>108.60</td>\n      <td>109.23</td>\n      <td>108.43</td>\n      <td>0.29%</td>\n    </tr>\n    <tr>\n      <th>1</th>\n      <td>2021年04月28日</td>\n      <td>108.59</td>\n      <td>108.74</td>\n      <td>109.08</td>\n      <td>108.57</td>\n      <td>-0.08%</td>\n    </tr>\n    <tr>\n      <th>2</th>\n      <td>2021年04月27日</td>\n      <td>108.68</td>\n      <td>108.07</td>\n      <td>108.78</td>\n      <td>108.07</td>\n      <td>0.56%</td>\n    </tr>\n    <tr>\n      <th>3</th>\n      <td>2021年04月26日</td>\n      <td>108.08</td>\n      <td>107.99</td>\n      <td>108.21</td>\n      <td>107.64</td>\n      <td>0.16%</td>\n    </tr>\n    <tr>\n      <th>4</th>\n      <td>2021年04月23日</td>\n      <td>107.91</td>\n      <td>107.96</td>\n      <td>108.15</td>\n      <td>107.47</td>\n      <td>-0.05%</td>\n    </tr>\n    <tr>\n      <th>...</th>\n      <td>...</td>\n      <td>...</td>\n      <td>...</td>\n      <td>...</td>\n      <td>...</td>\n      <td>...</td>\n    </tr>\n    <tr>\n      <th>4254</th>\n      <td>2005年01月07日</td>\n      <td>104.80</td>\n      <td>104.97</td>\n      <td>105.17</td>\n      <td>103.83</td>\n      <td>-0.26%</td>\n    </tr>\n    <tr>\n      <th>4255</th>\n      <td>2005年01月06日</td>\n      <td>105.07</td>\n      <td>104.12</td>\n      <td>105.20</td>\n      <td>103.85</td>\n      <td>0.94%</td>\n    </tr>\n    <tr>\n      <th>4256</th>\n      <td>2005年01月05日</td>\n      <td>104.09</td>\n      <td>104.56</td>\n      <td>105.03</td>\n      <td>103.73</td>\n      <td>-0.50%</td>\n    </tr>\n    <tr>\n      <th>4257</th>\n      <td>2005年01月04日</td>\n      <td>104.61</td>\n      <td>102.77</td>\n      <td>104.81</td>\n      <td>102.41</td>\n      <td>1.84%</td>\n    </tr>\n    <tr>\n      <th>4258</th>\n      <td>2005年01月03日</td>\n      <td>102.72</td>\n      <td>102.69</td>\n      <td>103.47</td>\n      <td>102.33</td>\n      <td>0.24%</td>\n    </tr>\n  </tbody>\n</table>\n<p>4259 rows × 6 columns</p>\n</div>"
     },
     "metadata": {},
     "execution_count": 256
    }
   ],
   "source": [
    "#df = df.query(\"Date>='1997-01-02'\")\n",
    "#df = df.sort_values('日付け', ascending=True).reset_index()\n",
    "df"
   ]
  },
  {
   "cell_type": "code",
   "execution_count": 257,
   "metadata": {},
   "outputs": [],
   "source": [
    "import talib as ta\n",
    "import numpy as np\n",
    "\n",
    "close = np.array(df[\"終値\"])\n",
    "\n",
    "#特徴量を入れるための空のdataframeを作成\n",
    "df_feature = pd.DataFrame(index=range(len(df)),columns=[\"SMA5/current\", \"SMA20/current\",\"RSI\",\"MACD\",\"BBANDS+2σ\",\"BBANDS-2σ\"])\n",
    "\n",
    "#以下、talibを用いてテクニカル指標（今回の学習で用いる特徴量）を算出しdf_feature入れる\n",
    "\n",
    "#単純移動平均は、単純移動平均値とその日の終値の比を特徴量として用いる\n",
    "df_feature[\"SMA5/current\"]= ta.SMA(close, timeperiod=5) / close\n",
    "df_feature[\"SMA20/current\"]= ta.SMA(close, timeperiod=20) / close\n",
    "\n",
    "#RSI\n",
    "df_feature[\"RSI\"] = ta.RSI(close, timeperiod=14)\n",
    "\n",
    "#MACD\n",
    "df_feature[\"MACD\"], _ , _= ta.MACD(close, fastperiod=12, slowperiod=26, signalperiod=9)\n",
    "\n",
    "#ボリンジャーバンド \n",
    "upper, middle, lower = ta.BBANDS(close, timeperiod=20, nbdevup=3, nbdevdn=3)\n",
    "df_feature[\"BBANDS+2σ\"] = upper / close\n",
    "df_feature[\"BBANDS-2σ\"] = lower / close"
   ]
  },
  {
   "cell_type": "code",
   "execution_count": 258,
   "metadata": {},
   "outputs": [],
   "source": [
    "def classify(x):\n",
    "#前日比が-0.2%以下ならグループ０\n",
    "    if x <= -0.2:\n",
    "        return 0\n",
    "#前日比が0.2%<x<0.2%ならグループ1\n",
    "    elif -0.2 < x < 0.2:\n",
    "        return 1\n",
    "#前日比が0.2%以上ならグループ２\n",
    "    elif 0.2 <= x:\n",
    "        return 2"
   ]
  },
  {
   "cell_type": "code",
   "execution_count": 259,
   "metadata": {},
   "outputs": [],
   "source": [
    "df[\"前日比_float\"] = df[\"前日比%\"].apply(lambda x: float(x.replace(\"%\", \"\")))\n",
    "\n",
    "#前日比%の分類の仕方。できるだけ各クラスのサンプルが等しいようにわける\n",
    "def classify(x):\n",
    "    if x <= -0.2:\n",
    "        return 0\n",
    "    elif -0.2 < x < 0.2:\n",
    "        return 1\n",
    "    elif 0.2 <= x:\n",
    "        return 2\n",
    "\n",
    "\n",
    "df[\"前日比_classified\"] = df[\"前日比_float\"].apply(lambda x: classify(x))\n",
    "\n",
    "#教師にしたいデータを一日ずつずらす\n",
    "#df_y = df[\"前日比_classified\"].shift()\n",
    "df_y = df[\"前日比_classified\"].shift()"
   ]
  },
  {
   "cell_type": "code",
   "execution_count": 260,
   "metadata": {},
   "outputs": [
    {
     "output_type": "execute_result",
     "data": {
      "text/plain": [
       "0     0.29\n",
       "1    -0.08\n",
       "2     0.56\n",
       "3     0.16\n",
       "4    -0.05\n",
       "5    -0.08\n",
       "6    -0.03\n",
       "7    -0.06\n",
       "8    -0.57\n",
       "9     0.03\n",
       "10   -0.16\n",
       "11   -0.13\n",
       "12   -0.29\n",
       "13   -0.26\n",
       "14    0.38\n",
       "15   -0.55\n",
       "16    0.09\n",
       "17   -0.39\n",
       "18   -0.49\n",
       "19    0.10\n",
       "Name: 前日比_float, dtype: float64"
      ]
     },
     "metadata": {},
     "execution_count": 260
    }
   ],
   "source": [
    "df[\"前日比_float\"].head(20)"
   ]
  },
  {
   "cell_type": "code",
   "execution_count": 261,
   "metadata": {},
   "outputs": [
    {
     "output_type": "execute_result",
     "data": {
      "text/plain": [
       "0     2\n",
       "1     1\n",
       "2     2\n",
       "3     1\n",
       "4     1\n",
       "5     1\n",
       "6     1\n",
       "7     1\n",
       "8     0\n",
       "9     1\n",
       "10    1\n",
       "11    1\n",
       "12    0\n",
       "13    0\n",
       "14    2\n",
       "15    0\n",
       "16    1\n",
       "17    0\n",
       "18    0\n",
       "19    1\n",
       "Name: 前日比_classified, dtype: int64"
      ]
     },
     "metadata": {},
     "execution_count": 261
    }
   ],
   "source": [
    "df[\"前日比_classified\"].head(20)"
   ]
  },
  {
   "cell_type": "code",
   "execution_count": 262,
   "metadata": {},
   "outputs": [
    {
     "output_type": "execute_result",
     "data": {
      "text/plain": [
       "0       NaN\n",
       "1       2.0\n",
       "2       1.0\n",
       "3       2.0\n",
       "4       1.0\n",
       "       ... \n",
       "4254    0.0\n",
       "4255    0.0\n",
       "4256    2.0\n",
       "4257    0.0\n",
       "4258    2.0\n",
       "Name: 前日比_classified, Length: 4259, dtype: float64"
      ]
     },
     "metadata": {},
     "execution_count": 262
    }
   ],
   "source": [
    "df_y"
   ]
  },
  {
   "cell_type": "code",
   "execution_count": 263,
   "metadata": {},
   "outputs": [
    {
     "output_type": "execute_result",
     "data": {
      "text/plain": [
       "0       NaN\n",
       "1       2.0\n",
       "2       1.0\n",
       "3       2.0\n",
       "4       1.0\n",
       "       ... \n",
       "4254    0.0\n",
       "4255    0.0\n",
       "4256    2.0\n",
       "4257    0.0\n",
       "4258    2.0\n",
       "Name: 前日比_classified, Length: 4259, dtype: float64"
      ]
     },
     "metadata": {},
     "execution_count": 263
    }
   ],
   "source": [
    "df[\"前日比_classified\"].shift()"
   ]
  },
  {
   "cell_type": "code",
   "execution_count": 264,
   "metadata": {},
   "outputs": [
    {
     "output_type": "execute_result",
     "data": {
      "text/plain": [
       "      SMA5/current  SMA20/current        RSI      MACD  BBANDS+2σ  BBANDS-2σ\n",
       "0              NaN            NaN        NaN       NaN        NaN        NaN\n",
       "1              NaN            NaN        NaN       NaN        NaN        NaN\n",
       "2              NaN            NaN        NaN       NaN        NaN        NaN\n",
       "3              NaN            NaN        NaN       NaN        NaN        NaN\n",
       "4         1.004856            NaN        NaN       NaN        NaN        NaN\n",
       "...            ...            ...        ...       ...        ...        ...\n",
       "4254      0.987023       0.984823  59.170051 -0.280442   1.007137   0.962510\n",
       "4255      0.989550       0.982583  60.854391 -0.121720   1.006498   0.958668\n",
       "4256      1.002075       0.992041  52.404241 -0.074155   1.016639   0.967442\n",
       "4257      0.999465       0.987535  55.903220  0.005438   1.013294   0.961775\n",
       "4258      1.014973       1.005242  43.411528 -0.083035   1.031611   0.978874\n",
       "\n",
       "[4259 rows x 6 columns]"
      ],
      "text/html": "<div>\n<style scoped>\n    .dataframe tbody tr th:only-of-type {\n        vertical-align: middle;\n    }\n\n    .dataframe tbody tr th {\n        vertical-align: top;\n    }\n\n    .dataframe thead th {\n        text-align: right;\n    }\n</style>\n<table border=\"1\" class=\"dataframe\">\n  <thead>\n    <tr style=\"text-align: right;\">\n      <th></th>\n      <th>SMA5/current</th>\n      <th>SMA20/current</th>\n      <th>RSI</th>\n      <th>MACD</th>\n      <th>BBANDS+2σ</th>\n      <th>BBANDS-2σ</th>\n    </tr>\n  </thead>\n  <tbody>\n    <tr>\n      <th>0</th>\n      <td>NaN</td>\n      <td>NaN</td>\n      <td>NaN</td>\n      <td>NaN</td>\n      <td>NaN</td>\n      <td>NaN</td>\n    </tr>\n    <tr>\n      <th>1</th>\n      <td>NaN</td>\n      <td>NaN</td>\n      <td>NaN</td>\n      <td>NaN</td>\n      <td>NaN</td>\n      <td>NaN</td>\n    </tr>\n    <tr>\n      <th>2</th>\n      <td>NaN</td>\n      <td>NaN</td>\n      <td>NaN</td>\n      <td>NaN</td>\n      <td>NaN</td>\n      <td>NaN</td>\n    </tr>\n    <tr>\n      <th>3</th>\n      <td>NaN</td>\n      <td>NaN</td>\n      <td>NaN</td>\n      <td>NaN</td>\n      <td>NaN</td>\n      <td>NaN</td>\n    </tr>\n    <tr>\n      <th>4</th>\n      <td>1.004856</td>\n      <td>NaN</td>\n      <td>NaN</td>\n      <td>NaN</td>\n      <td>NaN</td>\n      <td>NaN</td>\n    </tr>\n    <tr>\n      <th>...</th>\n      <td>...</td>\n      <td>...</td>\n      <td>...</td>\n      <td>...</td>\n      <td>...</td>\n      <td>...</td>\n    </tr>\n    <tr>\n      <th>4254</th>\n      <td>0.987023</td>\n      <td>0.984823</td>\n      <td>59.170051</td>\n      <td>-0.280442</td>\n      <td>1.007137</td>\n      <td>0.962510</td>\n    </tr>\n    <tr>\n      <th>4255</th>\n      <td>0.989550</td>\n      <td>0.982583</td>\n      <td>60.854391</td>\n      <td>-0.121720</td>\n      <td>1.006498</td>\n      <td>0.958668</td>\n    </tr>\n    <tr>\n      <th>4256</th>\n      <td>1.002075</td>\n      <td>0.992041</td>\n      <td>52.404241</td>\n      <td>-0.074155</td>\n      <td>1.016639</td>\n      <td>0.967442</td>\n    </tr>\n    <tr>\n      <th>4257</th>\n      <td>0.999465</td>\n      <td>0.987535</td>\n      <td>55.903220</td>\n      <td>0.005438</td>\n      <td>1.013294</td>\n      <td>0.961775</td>\n    </tr>\n    <tr>\n      <th>4258</th>\n      <td>1.014973</td>\n      <td>1.005242</td>\n      <td>43.411528</td>\n      <td>-0.083035</td>\n      <td>1.031611</td>\n      <td>0.978874</td>\n    </tr>\n  </tbody>\n</table>\n<p>4259 rows × 6 columns</p>\n</div>"
     },
     "metadata": {},
     "execution_count": 264
    }
   ],
   "source": [
    "df_feature"
   ]
  },
  {
   "cell_type": "code",
   "execution_count": 265,
   "metadata": {},
   "outputs": [
    {
     "output_type": "execute_result",
     "data": {
      "text/plain": [
       "4254   -0.26\n",
       "4255    0.94\n",
       "4256   -0.50\n",
       "4257    1.84\n",
       "4258    0.24\n",
       "Name: 前日比_float, dtype: float64"
      ]
     },
     "metadata": {},
     "execution_count": 265
    }
   ],
   "source": [
    "df[\"前日比_float\"].tail()"
   ]
  },
  {
   "cell_type": "code",
   "execution_count": 266,
   "metadata": {},
   "outputs": [],
   "source": [
    "df_xy = pd.concat([df_feature, df_y], axis=1)\n",
    "df_xy = df_xy.dropna(how=\"any\")"
   ]
  },
  {
   "cell_type": "code",
   "execution_count": 267,
   "metadata": {},
   "outputs": [
    {
     "output_type": "execute_result",
     "data": {
      "text/plain": [
       "      SMA5/current  SMA20/current        RSI      MACD  BBANDS+2σ  BBANDS-2σ  \\\n",
       "4229      0.995554       0.992593  53.500983 -0.096395   1.007962   0.977224   \n",
       "4230      0.994861       0.992135  54.505028 -0.033640   1.007354   0.976916   \n",
       "4231      0.997293       0.994898  52.667933 -0.000843   1.008980   0.980816   \n",
       "4232      0.998657       0.994185  53.708113  0.035233   1.008562   0.979809   \n",
       "4233      1.006656       1.002551  46.147079 -0.008698   1.017150   0.987952   \n",
       "4234      1.011009       1.009664  40.848598 -0.104443   1.025579   0.993749   \n",
       "4235      1.004863       1.005801  44.081265 -0.149549   1.022125   0.989478   \n",
       "4236      1.008798       1.013052  38.982783 -0.247001   1.031653   0.994451   \n",
       "4237      1.004261       1.012119  39.547521 -0.315752   1.032137   0.992101   \n",
       "4238      1.002431       1.012168  39.221740 -0.370006   1.033716   0.990621   \n",
       "4239      1.004005       1.014300  37.176919 -0.433026   1.037964   0.990635   \n",
       "4240      1.003354       1.015121  35.940160 -0.492623   1.040803   0.989438   \n",
       "4241      1.003572       1.015711  34.951604 -0.545667   1.043599   0.987822   \n",
       "4242      0.994043       1.005376  46.210975 -0.496449   1.032963   0.977788   \n",
       "4243      1.006218       1.018327  36.718862 -0.569496   1.048351   0.988302   \n",
       "4244      1.003894       1.015820  37.749301 -0.611461   1.046800   0.984839   \n",
       "4245      0.998432       1.008949  43.101052 -0.590306   1.039371   0.978526   \n",
       "4246      1.002801       1.012502  40.023565 -0.606092   1.043285   0.981720   \n",
       "4247      1.004497       1.016717  36.950360 -0.653833   1.049669   0.983765   \n",
       "4248      1.005604       1.017390  35.724138 -0.701336   1.051618   0.983162   \n",
       "4249      1.004646       1.015985  35.493505 -0.733751   1.049679   0.982292   \n",
       "4250      0.999160       1.010536  39.490135 -0.720472   1.041568   0.979504   \n",
       "4251      0.998282       1.008865  39.596197 -0.701061   1.036992   0.980739   \n",
       "4252      0.991197       0.998433  48.780986 -0.602080   1.021092   0.975774   \n",
       "4253      0.987390       0.990158  55.191650 -0.451458   1.010911   0.969406   \n",
       "4254      0.987023       0.984823  59.170051 -0.280442   1.007137   0.962510   \n",
       "4255      0.989550       0.982583  60.854391 -0.121720   1.006498   0.958668   \n",
       "4256      1.002075       0.992041  52.404241 -0.074155   1.016639   0.967442   \n",
       "4257      0.999465       0.987535  55.903220  0.005438   1.013294   0.961775   \n",
       "4258      1.014973       1.005242  43.411528 -0.083035   1.031611   0.978874   \n",
       "\n",
       "      前日比_classified      終値  \n",
       "4229             0.0  105.71  \n",
       "4230             1.0  105.85  \n",
       "4231             2.0  105.64  \n",
       "4232             1.0  105.77  \n",
       "4233             2.0  104.87  \n",
       "4234             2.0  104.10  \n",
       "4235             0.0  104.46  \n",
       "4236             2.0  103.66  \n",
       "4237             1.0  103.72  \n",
       "4238             1.0  103.67  \n",
       "4239             2.0  103.36  \n",
       "4240             1.0  103.17  \n",
       "4241             1.0  103.02  \n",
       "4242             0.0  104.08  \n",
       "4243             2.0  102.61  \n",
       "4244             1.0  102.72  \n",
       "4245             0.0  103.31  \n",
       "4246             2.0  102.82  \n",
       "4247             2.0  102.29  \n",
       "4248             2.0  102.07  \n",
       "4249             1.0  102.03  \n",
       "4250             0.0  102.41  \n",
       "4251             1.0  102.42  \n",
       "4252             0.0  103.37  \n",
       "4253             0.0  104.20  \n",
       "4254             0.0  104.80  \n",
       "4255             0.0  105.07  \n",
       "4256             2.0  104.09  \n",
       "4257             0.0  104.61  \n",
       "4258             2.0  102.72  "
      ],
      "text/html": "<div>\n<style scoped>\n    .dataframe tbody tr th:only-of-type {\n        vertical-align: middle;\n    }\n\n    .dataframe tbody tr th {\n        vertical-align: top;\n    }\n\n    .dataframe thead th {\n        text-align: right;\n    }\n</style>\n<table border=\"1\" class=\"dataframe\">\n  <thead>\n    <tr style=\"text-align: right;\">\n      <th></th>\n      <th>SMA5/current</th>\n      <th>SMA20/current</th>\n      <th>RSI</th>\n      <th>MACD</th>\n      <th>BBANDS+2σ</th>\n      <th>BBANDS-2σ</th>\n      <th>前日比_classified</th>\n      <th>終値</th>\n    </tr>\n  </thead>\n  <tbody>\n    <tr>\n      <th>4229</th>\n      <td>0.995554</td>\n      <td>0.992593</td>\n      <td>53.500983</td>\n      <td>-0.096395</td>\n      <td>1.007962</td>\n      <td>0.977224</td>\n      <td>0.0</td>\n      <td>105.71</td>\n    </tr>\n    <tr>\n      <th>4230</th>\n      <td>0.994861</td>\n      <td>0.992135</td>\n      <td>54.505028</td>\n      <td>-0.033640</td>\n      <td>1.007354</td>\n      <td>0.976916</td>\n      <td>1.0</td>\n      <td>105.85</td>\n    </tr>\n    <tr>\n      <th>4231</th>\n      <td>0.997293</td>\n      <td>0.994898</td>\n      <td>52.667933</td>\n      <td>-0.000843</td>\n      <td>1.008980</td>\n      <td>0.980816</td>\n      <td>2.0</td>\n      <td>105.64</td>\n    </tr>\n    <tr>\n      <th>4232</th>\n      <td>0.998657</td>\n      <td>0.994185</td>\n      <td>53.708113</td>\n      <td>0.035233</td>\n      <td>1.008562</td>\n      <td>0.979809</td>\n      <td>1.0</td>\n      <td>105.77</td>\n    </tr>\n    <tr>\n      <th>4233</th>\n      <td>1.006656</td>\n      <td>1.002551</td>\n      <td>46.147079</td>\n      <td>-0.008698</td>\n      <td>1.017150</td>\n      <td>0.987952</td>\n      <td>2.0</td>\n      <td>104.87</td>\n    </tr>\n    <tr>\n      <th>4234</th>\n      <td>1.011009</td>\n      <td>1.009664</td>\n      <td>40.848598</td>\n      <td>-0.104443</td>\n      <td>1.025579</td>\n      <td>0.993749</td>\n      <td>2.0</td>\n      <td>104.10</td>\n    </tr>\n    <tr>\n      <th>4235</th>\n      <td>1.004863</td>\n      <td>1.005801</td>\n      <td>44.081265</td>\n      <td>-0.149549</td>\n      <td>1.022125</td>\n      <td>0.989478</td>\n      <td>0.0</td>\n      <td>104.46</td>\n    </tr>\n    <tr>\n      <th>4236</th>\n      <td>1.008798</td>\n      <td>1.013052</td>\n      <td>38.982783</td>\n      <td>-0.247001</td>\n      <td>1.031653</td>\n      <td>0.994451</td>\n      <td>2.0</td>\n      <td>103.66</td>\n    </tr>\n    <tr>\n      <th>4237</th>\n      <td>1.004261</td>\n      <td>1.012119</td>\n      <td>39.547521</td>\n      <td>-0.315752</td>\n      <td>1.032137</td>\n      <td>0.992101</td>\n      <td>1.0</td>\n      <td>103.72</td>\n    </tr>\n    <tr>\n      <th>4238</th>\n      <td>1.002431</td>\n      <td>1.012168</td>\n      <td>39.221740</td>\n      <td>-0.370006</td>\n      <td>1.033716</td>\n      <td>0.990621</td>\n      <td>1.0</td>\n      <td>103.67</td>\n    </tr>\n    <tr>\n      <th>4239</th>\n      <td>1.004005</td>\n      <td>1.014300</td>\n      <td>37.176919</td>\n      <td>-0.433026</td>\n      <td>1.037964</td>\n      <td>0.990635</td>\n      <td>2.0</td>\n      <td>103.36</td>\n    </tr>\n    <tr>\n      <th>4240</th>\n      <td>1.003354</td>\n      <td>1.015121</td>\n      <td>35.940160</td>\n      <td>-0.492623</td>\n      <td>1.040803</td>\n      <td>0.989438</td>\n      <td>1.0</td>\n      <td>103.17</td>\n    </tr>\n    <tr>\n      <th>4241</th>\n      <td>1.003572</td>\n      <td>1.015711</td>\n      <td>34.951604</td>\n      <td>-0.545667</td>\n      <td>1.043599</td>\n      <td>0.987822</td>\n      <td>1.0</td>\n      <td>103.02</td>\n    </tr>\n    <tr>\n      <th>4242</th>\n      <td>0.994043</td>\n      <td>1.005376</td>\n      <td>46.210975</td>\n      <td>-0.496449</td>\n      <td>1.032963</td>\n      <td>0.977788</td>\n      <td>0.0</td>\n      <td>104.08</td>\n    </tr>\n    <tr>\n      <th>4243</th>\n      <td>1.006218</td>\n      <td>1.018327</td>\n      <td>36.718862</td>\n      <td>-0.569496</td>\n      <td>1.048351</td>\n      <td>0.988302</td>\n      <td>2.0</td>\n      <td>102.61</td>\n    </tr>\n    <tr>\n      <th>4244</th>\n      <td>1.003894</td>\n      <td>1.015820</td>\n      <td>37.749301</td>\n      <td>-0.611461</td>\n      <td>1.046800</td>\n      <td>0.984839</td>\n      <td>1.0</td>\n      <td>102.72</td>\n    </tr>\n    <tr>\n      <th>4245</th>\n      <td>0.998432</td>\n      <td>1.008949</td>\n      <td>43.101052</td>\n      <td>-0.590306</td>\n      <td>1.039371</td>\n      <td>0.978526</td>\n      <td>0.0</td>\n      <td>103.31</td>\n    </tr>\n    <tr>\n      <th>4246</th>\n      <td>1.002801</td>\n      <td>1.012502</td>\n      <td>40.023565</td>\n      <td>-0.606092</td>\n      <td>1.043285</td>\n      <td>0.981720</td>\n      <td>2.0</td>\n      <td>102.82</td>\n    </tr>\n    <tr>\n      <th>4247</th>\n      <td>1.004497</td>\n      <td>1.016717</td>\n      <td>36.950360</td>\n      <td>-0.653833</td>\n      <td>1.049669</td>\n      <td>0.983765</td>\n      <td>2.0</td>\n      <td>102.29</td>\n    </tr>\n    <tr>\n      <th>4248</th>\n      <td>1.005604</td>\n      <td>1.017390</td>\n      <td>35.724138</td>\n      <td>-0.701336</td>\n      <td>1.051618</td>\n      <td>0.983162</td>\n      <td>2.0</td>\n      <td>102.07</td>\n    </tr>\n    <tr>\n      <th>4249</th>\n      <td>1.004646</td>\n      <td>1.015985</td>\n      <td>35.493505</td>\n      <td>-0.733751</td>\n      <td>1.049679</td>\n      <td>0.982292</td>\n      <td>1.0</td>\n      <td>102.03</td>\n    </tr>\n    <tr>\n      <th>4250</th>\n      <td>0.999160</td>\n      <td>1.010536</td>\n      <td>39.490135</td>\n      <td>-0.720472</td>\n      <td>1.041568</td>\n      <td>0.979504</td>\n      <td>0.0</td>\n      <td>102.41</td>\n    </tr>\n    <tr>\n      <th>4251</th>\n      <td>0.998282</td>\n      <td>1.008865</td>\n      <td>39.596197</td>\n      <td>-0.701061</td>\n      <td>1.036992</td>\n      <td>0.980739</td>\n      <td>1.0</td>\n      <td>102.42</td>\n    </tr>\n    <tr>\n      <th>4252</th>\n      <td>0.991197</td>\n      <td>0.998433</td>\n      <td>48.780986</td>\n      <td>-0.602080</td>\n      <td>1.021092</td>\n      <td>0.975774</td>\n      <td>0.0</td>\n      <td>103.37</td>\n    </tr>\n    <tr>\n      <th>4253</th>\n      <td>0.987390</td>\n      <td>0.990158</td>\n      <td>55.191650</td>\n      <td>-0.451458</td>\n      <td>1.010911</td>\n      <td>0.969406</td>\n      <td>0.0</td>\n      <td>104.20</td>\n    </tr>\n    <tr>\n      <th>4254</th>\n      <td>0.987023</td>\n      <td>0.984823</td>\n      <td>59.170051</td>\n      <td>-0.280442</td>\n      <td>1.007137</td>\n      <td>0.962510</td>\n      <td>0.0</td>\n      <td>104.80</td>\n    </tr>\n    <tr>\n      <th>4255</th>\n      <td>0.989550</td>\n      <td>0.982583</td>\n      <td>60.854391</td>\n      <td>-0.121720</td>\n      <td>1.006498</td>\n      <td>0.958668</td>\n      <td>0.0</td>\n      <td>105.07</td>\n    </tr>\n    <tr>\n      <th>4256</th>\n      <td>1.002075</td>\n      <td>0.992041</td>\n      <td>52.404241</td>\n      <td>-0.074155</td>\n      <td>1.016639</td>\n      <td>0.967442</td>\n      <td>2.0</td>\n      <td>104.09</td>\n    </tr>\n    <tr>\n      <th>4257</th>\n      <td>0.999465</td>\n      <td>0.987535</td>\n      <td>55.903220</td>\n      <td>0.005438</td>\n      <td>1.013294</td>\n      <td>0.961775</td>\n      <td>0.0</td>\n      <td>104.61</td>\n    </tr>\n    <tr>\n      <th>4258</th>\n      <td>1.014973</td>\n      <td>1.005242</td>\n      <td>43.411528</td>\n      <td>-0.083035</td>\n      <td>1.031611</td>\n      <td>0.978874</td>\n      <td>2.0</td>\n      <td>102.72</td>\n    </tr>\n  </tbody>\n</table>\n</div>"
     },
     "metadata": {},
     "execution_count": 267
    }
   ],
   "source": [
    "pd.concat([df_feature, df_y,df[\"終値\"]], axis=1).tail(30)"
   ]
  },
  {
   "cell_type": "code",
   "execution_count": 268,
   "metadata": {
    "tags": []
   },
   "outputs": [
    {
     "output_type": "stream",
     "name": "stderr",
     "text": [
      "\u001b[32m[I 2021-05-04 22:42:03,425]\u001b[0m A new study created in memory with name: no-name-27dcd37d-99f9-4483-be4d-288e869ad939\u001b[0m\n",
      "\u001b[32m[I 2021-05-04 22:42:16,046]\u001b[0m Trial 0 finished with value: 0.38179669030732866 and parameters: {'min_samples_split': 10, 'max_leaf_nodes': 48.0, 'criterion': 'gini', 'n_estimators': 500.0, 'max_depth': 10}. Best is trial 0 with value: 0.38179669030732866.\u001b[0m\n",
      "\u001b[32m[I 2021-05-04 22:42:27,223]\u001b[0m Trial 1 finished with value: 0.3806146572104019 and parameters: {'min_samples_split': 14, 'max_leaf_nodes': 60.0, 'criterion': 'gini', 'n_estimators': 450.0, 'max_depth': 8}. Best is trial 0 with value: 0.38179669030732866.\u001b[0m\n",
      "\u001b[32m[I 2021-05-04 22:42:36,146]\u001b[0m Trial 2 finished with value: 0.39125295508274227 and parameters: {'min_samples_split': 2, 'max_leaf_nodes': 56.0, 'criterion': 'gini', 'n_estimators': 500.0, 'max_depth': 4}. Best is trial 2 with value: 0.39125295508274227.\u001b[0m\n"
     ]
    }
   ],
   "source": [
    "from sklearn.model_selection import train_test_split\n",
    "from sklearn.ensemble import RandomForestClassifier\n",
    "from sklearn.metrics import accuracy_score\n",
    "import optuna\n",
    "\n",
    "X_train, X_test, Y_train, Y_test = train_test_split(df_xy[[\"SMA5/current\", \"SMA20/current\",\"RSI\",\"MACD\",\"BBANDS+2σ\",\"BBANDS-2σ\"]],df_xy[\"前日比_classified\"], train_size=0.8)\n",
    "\n",
    "def objective(trial):\n",
    "    min_samples_split = trial.suggest_int(\"min_samples_split\", 2,16)\n",
    "    max_leaf_nodes = int(trial.suggest_discrete_uniform(\"max_leaf_nodes\", 4,64,4))\n",
    "    criterion = trial.suggest_categorical(\"criterion\", [\"gini\", \"entropy\"])\n",
    "    n_estimators = int(trial.suggest_discrete_uniform(\"n_estimators\", 50,500,50))\n",
    "    max_depth = trial.suggest_int(\"max_depth\", 3,10)\n",
    "    clf = RandomForestClassifier(random_state=1, n_estimators = n_estimators, max_leaf_nodes = max_leaf_nodes, max_depth=max_depth, max_features=None,criterion=criterion,min_samples_split=min_samples_split)\n",
    "    clf.fit(X_train, Y_train)\n",
    "    return 1 - accuracy_score(Y_test, clf.predict(X_test))\n",
    "\n",
    "study = optuna.create_study(direction='maximize')\n",
    "#study.optimize(objective, n_trials=100)\n",
    "study.optimize(objective, n_trials=3)\n"
   ]
  },
  {
   "cell_type": "code",
   "execution_count": 269,
   "metadata": {},
   "outputs": [
    {
     "output_type": "stream",
     "name": "stdout",
     "text": [
      "Accuracy: 0.6087470449172577\n",
      "Best hyperparameters: {'min_samples_split': 2, 'max_leaf_nodes': 56.0, 'criterion': 'gini', 'n_estimators': 500.0, 'max_depth': 4}\n"
     ]
    }
   ],
   "source": [
    "#ベストな結果、パラメータの表示\n",
    "print('Accuracy: {}'.format(1-study.best_value))\n",
    "print(\"Best hyperparameters: {}\".format(study.best_trial.params))"
   ]
  },
  {
   "cell_type": "code",
   "execution_count": 270,
   "metadata": {},
   "outputs": [],
   "source": [
    "# チューニングしたハイパーパラメーターをフィット\n",
    "optimised_rf = RandomForestClassifier(random_state=1, n_estimators = int(study.best_params['n_estimators']), max_leaf_nodes = int(study.best_params['max_leaf_nodes']), max_depth=study.best_params['max_depth'], max_features=None,criterion=study.best_params['criterion'],min_samples_split=study.best_params['min_samples_split'])"
   ]
  },
  {
   "cell_type": "code",
   "execution_count": 271,
   "metadata": {},
   "outputs": [
    {
     "output_type": "stream",
     "name": "stdout",
     "text": [
      "Accuracy: 0.6087470449172577\n"
     ]
    }
   ],
   "source": [
    "optimised_rf.fit(X_train, Y_train)\n",
    "Y_pred = optimised_rf.predict(X_test)\n",
    "accuracy = accuracy_score(Y_test, Y_pred)\n",
    "print('Accuracy: {}'.format(accuracy))"
   ]
  },
  {
   "cell_type": "code",
   "execution_count": null,
   "metadata": {},
   "outputs": [],
   "source": []
  }
 ]
}