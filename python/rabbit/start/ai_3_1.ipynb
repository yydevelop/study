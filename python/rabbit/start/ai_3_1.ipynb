{
 "metadata": {
  "language_info": {
   "codemirror_mode": {
    "name": "ipython",
    "version": 3
   },
   "file_extension": ".py",
   "mimetype": "text/x-python",
   "name": "python",
   "nbconvert_exporter": "python",
   "pygments_lexer": "ipython3",
   "version": "3.8.8"
  },
  "orig_nbformat": 2,
  "kernelspec": {
   "name": "python388jvsc74a57bd0716fbbd92a13ad18c91e0530cf34e461b7b6b5d8d0684ef77aa6c15e96b2fbea",
   "display_name": "Python 3.8.8 64-bit"
  }
 },
 "nbformat": 4,
 "nbformat_minor": 2,
 "cells": [
  {
   "cell_type": "code",
   "execution_count": 1,
   "metadata": {},
   "outputs": [],
   "source": [
    "import numpy as np\n",
    "\n",
    "def sigmoid(a):\n",
    "    return 1/(1+np.exp(-a))\n",
    "\n",
    "x1 = np.array([[1],[2]])\n",
    "w1 = np.array([[0.4,0.3],[0.7,0.6]])\n",
    "b1 = np.array([[1.0],[1.0]])\n",
    "a1 = w1.dot(x1) + b1\n",
    "\n",
    "x2 = sigmoid(a1)\n",
    "w2 = np.array([[0.2,0.3],[1,0.7]])\n",
    "b2 = np.array([[1.0],[1.0]])\n",
    "a2 = w2.dot(x2) + b2\n",
    "\n",
    "y = sigmoid(a2)\n",
    "t = np.array([[1],[0]])\n",
    "\n",
    "X = [x1,x2]\n",
    "A = [a1,a2]\n",
    "W = [w1,w2]\n",
    "B = [b1,b2]\n",
    "\n",
    "max_layer = len(X)\n"
   ]
  },
  {
   "cell_type": "code",
   "execution_count": 2,
   "metadata": {},
   "outputs": [],
   "source": [
    "def f(a):\n",
    "    return (1-sigmoid(a)) * sigmoid(a)\n",
    "\n",
    "def g(l,j):\n",
    "    if max_layer == l:\n",
    "        return (y[j] - t[j]) * f(A[l-1][j])\n",
    "    else:\n",
    "        output = 0\n",
    "        m = A[l-1].shape[0]\n",
    "        for i in range(m):\n",
    "            output += g(l + 1, i) * W[l][i, j] * f(A[l - 1][j])\n",
    "        return output"
   ]
  },
  {
   "cell_type": "code",
   "execution_count": 3,
   "metadata": {},
   "outputs": [],
   "source": [
    "def diff_w(j,k,l):\n",
    "    return g(l,j) * X[l-1][k]\n",
    "\n",
    "def diff_b(j,l):\n",
    "    return g(l,j)"
   ]
  },
  {
   "cell_type": "code",
   "execution_count": 5,
   "metadata": {},
   "outputs": [
    {
     "output_type": "execute_result",
     "data": {
      "text/plain": [
       "array([[0.95538503],\n",
       "       [0.04894226]])"
      ]
     },
     "metadata": {},
     "execution_count": 5
    }
   ],
   "source": [
    "for _ in range(100):\n",
    "    for l in range(len(X)):\n",
    "        for j in range(W[l].shape[0]):\n",
    "            for k in range(W[l].shape[1]):\n",
    "                W[l][j,k] = W[l][j,k] - diff_w(j,k,l+1)\n",
    "            B[l][j] = B[l][j] - diff_b(j,l+1)\n",
    "    A[0] = W[0].dot(X[0]) + B[0]\n",
    "    X[1] = sigmoid(A[0])\n",
    "    A[1] = W[1].dot(X[1]) + B[1]\n",
    "    y = sigmoid(A[l])\n",
    "y"
   ]
  }
 ]
}