{
 "metadata": {
  "language_info": {
   "codemirror_mode": {
    "name": "ipython",
    "version": 3
   },
   "file_extension": ".py",
   "mimetype": "text/x-python",
   "name": "python",
   "nbconvert_exporter": "python",
   "pygments_lexer": "ipython3",
   "version": "3.9.5"
  },
  "orig_nbformat": 4,
  "kernelspec": {
   "name": "python3",
   "display_name": "Python 3.9.5 64-bit"
  },
  "interpreter": {
   "hash": "0bfcea0d942fb877b2f6524cf44b216e68e0aed62ea2262d27fcd57ff26fcd29"
  }
 },
 "nbformat": 4,
 "nbformat_minor": 2,
 "cells": [
  {
   "cell_type": "code",
   "execution_count": 18,
   "metadata": {},
   "outputs": [],
   "source": [
    "import numpy as np\n",
    "\n",
    "def init_centroid(X, n_data, k):\n",
    "    # 各データ点の中からクラスタの重心となる点をk個ランダムに選択\n",
    "    idx = np.random.permutation(n_data)[:k]\n",
    "    centroids = X[idx]\n",
    "    return centroids\n",
    "\n",
    "\n",
    "def compute_distances(X, k, n_data, centroids):\n",
    "    print(centroids)\n",
    "    distances = np.zeros((n_data, k))\n",
    "    for idx_centroids in range(k):\n",
    "        print('')\n",
    "        print(centroids[idx_centroids])\n",
    "        print(np.sum((X - centroids[idx_centroids]) ** 2, axis=0))\n",
    "        print('')        \n",
    "        dist = np.sqrt(np.sum((X - centroids[idx_centroids]) ** 2, axis=1))\n",
    "        distances[:, idx_centroids] = dist\n",
    "    return distances\n",
    "\n",
    "\n",
    "def k_means(k, X, max_iter=300):\n",
    "    \"\"\"\n",
    "    X.shape = (データ数, 次元数)\n",
    "    k = クラスタ数\n",
    "    \"\"\"\n",
    "    n_data, n_features = X.shape\n",
    "\n",
    "    # 重心の初期値\n",
    "    centroids = init_centroid(X, n_data, k)\n",
    "\n",
    "    # 新しいクラスタを格納するための配列\n",
    "    new_cluster = np.zeros(n_data)\n",
    "\n",
    "    # 各データの所属クラスタを保存する配列\n",
    "    cluster = np.zeros(n_data)\n",
    "\n",
    "    for epoch in range(max_iter):\n",
    "        # 各データ点と重心との距離を計算\n",
    "        distances = compute_distances(X, k, n_data, centroids)\n",
    "\n",
    "        # 新たな所属クラスタを計算\n",
    "        new_cluster = np.argmin(distances, axis=1)\n",
    "\n",
    "        # すべてのクラスタに対して重心を再計算\n",
    "        for idx_centroids in range(k):\n",
    "            centroids[idx_centroids] = X[new_cluster == idx_centroids].mean(axis=0)\n",
    "\n",
    "        # クラスタによるグループ分けに変化がなかったら終了\n",
    "        if (new_cluster == cluster).all():\n",
    "            break\n",
    "\n",
    "        cluster = new_cluster\n",
    "\n",
    "    return cluster\n",
    "\n",
    "    \n",
    "    \n",
    "    \n",
    "    \n",
    "    "
   ]
  },
  {
   "cell_type": "code",
   "execution_count": 19,
   "metadata": {},
   "outputs": [
    {
     "output_type": "stream",
     "name": "stdout",
     "text": [
      "X\n [[ 0  1  2  3  4]\n [ 5  6  7  8  9]\n [10 11 12 13 14]\n [15 16 17 18 19]\n [20 21 22 23 24]\n [25 26 27 28 29]\n [30 31 32 33 34]\n [35 36 37 38 39]\n [40 41 42 43 44]\n [45 46 47 48 49]]\nk= 3\n[[45 46 47 48 49]\n [35 36 37 38 39]\n [40 41 42 43 44]]\n\n[45 46 47 48 49]\n[7125 7125 7125 7125 7125]\n\n\n[35 36 37 38 39]\n[3625 3625 3625 3625 3625]\n\n\n[40 41 42 43 44]\n[5125 5125 5125 5125 5125]\n\n[[45 46 47 48 49]\n [17 18 19 20 21]\n [40 41 42 43 44]]\n\n[45 46 47 48 49]\n[7125 7125 7125 7125 7125]\n\n\n[17 18 19 20 21]\n[2365 2365 2365 2365 2365]\n\n\n[40 41 42 43 44]\n[5125 5125 5125 5125 5125]\n\n[[45 46 47 48 49]\n [12 13 14 15 16]\n [35 36 37 38 39]]\n\n[45 46 47 48 49]\n[7125 7125 7125 7125 7125]\n\n\n[12 13 14 15 16]\n[3165 3165 3165 3165 3165]\n\n\n[35 36 37 38 39]\n[3625 3625 3625 3625 3625]\n\n[[42 43 44 45 46]\n [10 11 12 13 14]\n [30 31 32 33 34]]\n\n[42 43 44 45 46]\n[5865 5865 5865 5865 5865]\n\n\n[10 11 12 13 14]\n[3625 3625 3625 3625 3625]\n\n\n[30 31 32 33 34]\n[2625 2625 2625 2625 2625]\n\ncluster [1 1 1 1 1 2 2 2 0 0]\n"
     ]
    }
   ],
   "source": [
    "    X = np.arange(10*5).reshape(10, 5)\n",
    "    print(\"X\\n\", X)\n",
    "    k = 3 \n",
    "    print(\"k=\",k)\n",
    "\n",
    "    cluster = k_means(k, X, max_iter=300)\n",
    "    print(\"cluster\", cluster)"
   ]
  }
 ]
}