{
 "metadata": {
  "language_info": {
   "codemirror_mode": {
    "name": "ipython",
    "version": 3
   },
   "file_extension": ".py",
   "mimetype": "text/x-python",
   "name": "python",
   "nbconvert_exporter": "python",
   "pygments_lexer": "ipython3",
   "version": "3.8.8"
  },
  "orig_nbformat": 2,
  "kernelspec": {
   "name": "python388jvsc74a57bd0716fbbd92a13ad18c91e0530cf34e461b7b6b5d8d0684ef77aa6c15e96b2fbea",
   "display_name": "Python 3.8.8 64-bit"
  }
 },
 "nbformat": 4,
 "nbformat_minor": 2,
 "cells": [
  {
   "cell_type": "code",
   "execution_count": 1,
   "metadata": {},
   "outputs": [],
   "source": [
    "# 必要なライブラリのインポート\n",
    "from sklearn import datasets\n",
    "from sklearn.model_selection import train_test_split\n",
    "\n",
    "# データセットの準備\n",
    "X, y = datasets.make_classification(n_classes=2, n_features=20, n_samples=500, random_state=0)\n",
    "X_train, X_test, y_train, y_test = train_test_split(X, y, random_state=0)"
   ]
  },
  {
   "cell_type": "code",
   "execution_count": 5,
   "metadata": {},
   "outputs": [
    {
     "output_type": "stream",
     "name": "stdout",
     "text": [
      "Gradient Boosting Train score: 1.0\nRandome Forest Train score: 1.0\nGradient Boosting Test score: 0.912\nRandome Forest Test score: 0.912\n"
     ]
    }
   ],
   "source": [
    "from sklearn import ensemble\n",
    "\n",
    "gb=ensemble.GradientBoostingClassifier(n_estimators=500,random_state=0)\n",
    "\n",
    "rf = ensemble.GradientBoostingClassifier(n_estimators=500,random_state=0)\n",
    "\n",
    "gb.fit(X_train,y_train)\n",
    "rf.fit(X_train,y_train)\n",
    "\n",
    "print(f'Gradient Boosting Train score: {gb.score(X_train, y_train)}')\n",
    "print(f'Randome Forest Train score: {rf.score(X_train, y_train)}')\n",
    "print(f'Gradient Boosting Test score: {gb.score(X_test, y_test)}')\n",
    "print(f'Randome Forest Test score: {rf.score(X_test, y_test)}')"
   ]
  },
  {
   "cell_type": "code",
   "execution_count": 6,
   "metadata": {},
   "outputs": [
    {
     "output_type": "stream",
     "name": "stdout",
     "text": [
      "GB with early stopping Train score: 0.9653333333333334\nGB with early stopping Test score: 0.92\nThe number of estimators: 44\n"
     ]
    }
   ],
   "source": [
    "# early stoppingを実行するGradient Boostingを適用\n",
    "gbes=ensemble.GradientBoostingClassifier(n_estimators=500,validation_fraction=0.25,n_iter_no_change=5,random_state=0)\n",
    "gbes.fit(X_train,y_train)\n",
    "\n",
    "print(f'GB with early stopping Train score: {gbes.score(X_train, y_train)}')\n",
    "print(f'GB with early stopping Test score: {gbes.score(X_test, y_test)}')\n",
    "print(f'The number of estimators: {len(gbes.estimators_)}')"
   ]
  },
  {
   "cell_type": "code",
   "execution_count": null,
   "metadata": {},
   "outputs": [],
   "source": []
  }
 ]
}